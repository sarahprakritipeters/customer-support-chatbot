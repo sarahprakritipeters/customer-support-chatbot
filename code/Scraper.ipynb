{
 "cells": [
  {
   "cell_type": "code",
   "execution_count": 77,
   "metadata": {},
   "outputs": [],
   "source": [
    "import pandas as pd\n",
    "import numpy as np\n",
    "from bs4 import BeautifulSoup\n",
    "import requests \n",
    "import csv\n",
    "import re"
   ]
  },
  {
   "cell_type": "markdown",
   "metadata": {},
   "source": [
    "# Scraping Refrigerator Information"
   ]
  },
  {
   "cell_type": "code",
   "execution_count": 78,
   "metadata": {},
   "outputs": [],
   "source": [
    "def get_fridge_details():\n",
    "    fridge_url = f\"https://www.partselect.com/Fridge-Parts.htm\" \n",
    "    page = requests.get(fridge_url)\n",
    "    soup = BeautifulSoup(page.content, \"html.parser\")\n",
    "    popular_parts_section = soup.find('h2', class_='section-title', string='Popular Fridge Parts')\n",
    "\n",
    "    image_titles = popular_parts_section.find_all_next('img', alt=True)\n",
    "    parts = popular_parts_section.find_all_next('div', class_='nf__part__detail')\n",
    "    price_parts_div = popular_parts_section.find_all_next('div', class_='nf__part__left-col__basic-info__price')\n",
    "    stock_parts_div = popular_parts_section.find_all_next('div', class_='nf__part__left-col__basic-info__stock')\n",
    "\n",
    "    # Check if the part number in the title matches the manufacturer number\n",
    "    pattern = r'Part Number: (\\w+)'\n",
    "    data = []\n",
    "\n",
    "    for i, (img, part, prices, stocks) in enumerate(zip(image_titles, parts, price_parts_div, stock_parts_div), start=1):\n",
    "        print(i, \". Image Title:\", img['alt'])\n",
    "        match = re.search(pattern, img['alt'])\n",
    "\n",
    "        if match:\n",
    "            part_number_from_title = match.group(1)\n",
    "            part_number = part.find('div', class_='nf__part__detail__part-number').strong.text\n",
    "            manufacturer_number = part.find_all('div', class_='nf__part__detail__part-number')[1].strong.text\n",
    "            detail_title = part.find('a', class_='nf__part__detail__title').text.strip()\n",
    "            if part_number_from_title == manufacturer_number:\n",
    "                explanation_div = part.find('div', class_='nf__part__detail__symptoms')\n",
    "                explanation = explanation_div.previous_sibling.strip() if explanation_div else \"No explanation available\"\n",
    "                url = part.find('a', class_='nf__part__detail__title')['href']\n",
    "                price = prices.find('div',class_='mt-sm-2 price').get_text(strip=True)\n",
    "                stock = stocks.find('div',class_='mb-1 mb-sm-2 js-tooltip').get_text(strip=True)\n",
    "                data.append([part_number, manufacturer_number, url.split('-')[1], detail_title, explanation, price, stock, url])\n",
    "\n",
    "    with open('/Users/sarah_prakriti_peters/Documents/Instalily/data/fridge_parts.csv', mode='w', newline='', encoding='utf-8') as file:\n",
    "        writer = csv.writer(file)\n",
    "        writer.writerow(['Part_Number', 'Manufacturer_Part_Number', 'Manufacturer', 'Title', 'Description', 'Price', 'Stock', 'Product_link'])\n",
    "        writer.writerows(data)"
   ]
  },
  {
   "cell_type": "code",
   "execution_count": 79,
   "metadata": {},
   "outputs": [
    {
     "name": "stdout",
     "output_type": "stream",
     "text": [
      "1 . Image Title: Refrigerator Ice and Water Filter – Part Number: EDR1RXD1\n",
      "2 . Image Title: Refrigerator Door Shelf Bin – Part Number: 242126602\n",
      "3 . Image Title: BELT DRIVE – Part Number: WE03X29897\n",
      "4 . Image Title: Refrigerator Door Shelf Bin – Part Number: WPW10321304\n",
      "5 . Image Title: Oven Bake Element – Part Number: 316075103\n",
      "6 . Image Title: Door Shelf Retainer Bar – Part Number: 240534901\n",
      "7 . Image Title: Refrigerator Water Filter – Part Number: EDR4RXD1\n",
      "8 . Image Title: Refrigerator Crisper Drawer with Humidity Control – Part Number: WP2188656\n",
      "9 . Image Title: Drum Bearing Slide - White (Sold individually) – Part Number: WE1M504\n",
      "10 . Image Title: Drum Bearing Slide - Green (Sold individually) – Part Number: WE1M1067\n"
     ]
    }
   ],
   "source": [
    "get_fridge_details()"
   ]
  },
  {
   "cell_type": "code",
   "execution_count": 80,
   "metadata": {},
   "outputs": [],
   "source": [
    "def pull_product_specs(link, mpn):\n",
    "    product_url = f\"https://www.partselect.com{link}\"\n",
    "    product_page = requests.get(product_url)\n",
    "    soup = BeautifulSoup(product_page.content, \"html.parser\")\n",
    "\n",
    "    # Troubleshooting Section \n",
    "    # Contains information about what kinds of problems this part solves, which products it is compatible with and what it can replace\n",
    "    troubleshooting_section = soup.find(\"div\", {\"id\": \"Troubleshooting\"})\n",
    "\n",
    "    if troubleshooting_section:\n",
    "        symptoms_fixed_element = troubleshooting_section.find_next(\"div\", class_=\"bold\", string=\"This part fixes the following symptoms:\")\n",
    "        if symptoms_fixed_element:\n",
    "            symptoms_fixed = symptoms_fixed_element.next_sibling.strip()\n",
    "        else:\n",
    "            symptoms_fixed = \"Symptoms information not found\"  \n",
    "    \n",
    "        replacements = soup.find(\"div\", class_=\"bold\", string=f\"Part# {mpn} replaces these:\").find_next_sibling(\"div\")\n",
    "        if replacements:\n",
    "            replacements_list = [r.strip() for r in replacements.get_text(strip=True).split(',')]\n",
    "        else:\n",
    "            replacements_list = [\"Not found\"]\n",
    "\n",
    "    product_info_div = soup.find(\"div\", class_=\"bold mb-1\", string=\"This part works with the following products:\")\n",
    "    product_info = product_info_div.find_next(\"div\").text.strip().replace(\"This part works with the following products:\", \"\").strip()\n",
    "\n",
    "    # Customer Reviews Section \n",
    "    # What is the average product rating? \n",
    "    # How easy is it to install?\n",
    "    average_product_rating = soup.find('div', class_='pd__cust-review__header__rating__chart--border').get_text(strip=True)\n",
    "    # num_reviews = soup.find('span', class_='rating__count').get_text().strip()\n",
    "    average_customer_rating = soup.find('div', class_='pd__repair-story__raiting mt-2 mb-4').get_text(strip=True).replace(\"What's this?\",\"\").strip()\n",
    "    average_repair_rating = average_customer_rating.replace(\"Average Repair Rating:\",\"\").strip()\n",
    "    # print(symptoms_fixed, replacements_list, product_info, average_product_rating, average_repair_rating)\n",
    "    \n",
    "    return symptoms_fixed, replacements_list, product_info, average_product_rating, num_reviews, average_repair_rating\n"
   ]
  },
  {
   "cell_type": "code",
   "execution_count": 81,
   "metadata": {},
   "outputs": [],
   "source": [
    "symptoms_fixed_list = []\n",
    "replacements_list_list = []\n",
    "product_info_list = []\n",
    "average_product_rating_list = []\n",
    "num_reviews_list = []\n",
    "average_customer_rating_list = []\n",
    "mpns = []\n",
    "\n",
    "df = pd.read_csv(\"/Users/sarah_prakriti_peters/Documents/Instalily/data/fridge_parts.csv\")\n",
    "\n",
    "# Iterate over each row in the DataFrame and call pull_product_specs function\n",
    "for link, mpn in zip(df['Product_link'], df['Manufacturer_Part_Number']):\n",
    "    symptoms_fixed, replacements_list, product_info, average_product_rating, num_reviews, average_customer_rating = pull_product_specs(link, mpn)\n",
    "    \n",
    "    # Append return values to lists\n",
    "    mpns.append(mpn)\n",
    "    symptoms_fixed_list.append(symptoms_fixed)\n",
    "    replacements_list_list.append(replacements_list)\n",
    "    product_info_list.append(product_info)\n",
    "    average_product_rating_list.append(average_product_rating)\n",
    "    # num_reviews_list.append(num_reviews)\n",
    "    average_customer_rating_list.append(average_customer_rating)\n",
    "\n",
    "# Create a new DataFrame with the return values\n",
    "data = {\n",
    "    'Manufacturer_Part_Number': mpns,\n",
    "    'Symptoms Fixed': symptoms_fixed_list,\n",
    "    'Replacements List': replacements_list_list,\n",
    "    'Product Info': product_info_list,\n",
    "    'Average Product Rating': average_product_rating_list,\n",
    "    # 'Number_of_reviews': num_reviews_list,\n",
    "    'Average Repair Rating': average_customer_rating_list\n",
    "}\n",
    "\n",
    "fridge_result_df = pd.DataFrame(data)"
   ]
  },
  {
   "cell_type": "code",
   "execution_count": 82,
   "metadata": {},
   "outputs": [],
   "source": [
    "def qna(link):\n",
    "    product_url = f\"https://www.partselect.com{link}\"\n",
    "    product_page = requests.get(product_url)\n",
    "    soup = BeautifulSoup(product_page.content, \"html.parser\")\n",
    "    questions_and_answers = soup.find('div', id='QuestionsAndAnswersContent')\n",
    "    questions, answers, model_nos = [], [], []\n",
    "\n",
    "    if questions_and_answers:\n",
    "        question_elements = questions_and_answers.find_all('div', class_='qna__question')\n",
    "        \n",
    "        for question_element in question_elements:\n",
    "            question = question_element.find(class_='js-searchKeys').text.strip()\n",
    "            model_number_element = question_element.find(class_='bold mt-3 mb-3')\n",
    "            if model_number_element:\n",
    "                model_number = model_number_element.text.strip()\n",
    "                model_number = model_number.replace(\"For model number\",\"\").strip()\n",
    "            else:\n",
    "                model_number = \"Model number not found\"\n",
    "            answer = question_element.find(class_='qna__ps-answer__msg').text.strip()\n",
    "            \n",
    "            questions.append(question+ \"This is for model number \" + model_number)\n",
    "            answers.append(answer)\n",
    "            model_nos.append(model_number)\n",
    "\n",
    "            # print(questions, answers, model_nos)\n",
    "\n",
    "        return questions, answers, model_nos"
   ]
  },
  {
   "cell_type": "code",
   "execution_count": 83,
   "metadata": {},
   "outputs": [],
   "source": [
    "questions_list, answers_list, model_numbers, mpns = [], [], [], []\n",
    "# Iterate over each row in the DataFrame and call pull_product_specs function\n",
    "for link, mpn in zip(df['Product_link'], df['Manufacturer_Part_Number']):\n",
    "    questions, answers, model_nos = qna(link)\n",
    "    \n",
    "    # Append return values to lists\n",
    "    questions_list.append(questions)\n",
    "    answers_list.append(answers)\n",
    "    model_numbers.append(model_nos)\n",
    "    mpns.append(mpn)\n",
    "\n",
    "# Create a new DataFrame with the return values\n",
    "data = {\n",
    "    'Manufacturer_Part_Number': mpns,\n",
    "    'Queries':questions_list,\n",
    "    'Answers':answers_list,\n",
    "    'Corresponding_model_numbers': model_numbers\n",
    "}\n",
    "\n",
    "fridge_qanda_df = pd.DataFrame(data)"
   ]
  },
  {
   "cell_type": "code",
   "execution_count": 84,
   "metadata": {},
   "outputs": [
    {
     "data": {
      "text/plain": [
       "(10, 16)"
      ]
     },
     "execution_count": 84,
     "metadata": {},
     "output_type": "execute_result"
    }
   ],
   "source": [
    "fridge_df = pd.read_csv(\"/Users/sarah_prakriti_peters/Documents/Instalily/data/fridge_parts.csv\")\n",
    "fridge_data = fridge_df.merge(fridge_result_df,on='Manufacturer_Part_Number').merge(fridge_qanda_df,on='Manufacturer_Part_Number')\n",
    "fridge_data.shape"
   ]
  },
  {
   "cell_type": "code",
   "execution_count": 85,
   "metadata": {},
   "outputs": [],
   "source": [
    "fridge_data.to_csv(\"/Users/sarah_prakriti_peters/Documents/Instalily/data/fridge_data.csv\")"
   ]
  },
  {
   "cell_type": "code",
   "execution_count": 86,
   "metadata": {},
   "outputs": [],
   "source": [
    "csv_file = \"/Users/sarah_prakriti_peters/Documents/Instalily/data/fridge_data.csv\"\n",
    "txt_file = \"/Users/sarah_prakriti_peters/Documents/Instalily/data/fridge_data.txt\"\n",
    "with open(txt_file, \"w\") as my_output_file:\n",
    "    with open(csv_file, \"r\") as my_input_file:\n",
    "        [ my_output_file.write(\" \".join(row)+'\\n') for row in csv.reader(my_input_file)]\n",
    "    my_output_file.close()"
   ]
  },
  {
   "cell_type": "markdown",
   "metadata": {},
   "source": [
    "# Scraping Dishwasher Information"
   ]
  },
  {
   "cell_type": "code",
   "execution_count": 87,
   "metadata": {},
   "outputs": [],
   "source": [
    "def get_dishwasher_details():\n",
    "    dishwasher_url = f\"https://www.partselect.com/Dishwasher-Parts.htm\" \n",
    "    page = requests.get(dishwasher_url)\n",
    "    soup = BeautifulSoup(page.content, \"html.parser\")\n",
    "    popular_parts_section = soup.find('h2', class_='section-title', string='Popular Dishwasher Parts')\n",
    "\n",
    "    image_titles = popular_parts_section.find_all_next('img', alt=True)\n",
    "    parts = popular_parts_section.find_all_next('div', class_='nf__part__detail')\n",
    "    price_parts_div = popular_parts_section.find_all_next('div', class_='nf__part__left-col__basic-info__price')\n",
    "    stock_parts_div = popular_parts_section.find_all_next('div', class_='nf__part__left-col__basic-info__stock')\n",
    "\n",
    "    # Check if the part number in the title matches the manufacturer number\n",
    "    pattern = r'Part Number: (\\w+)'\n",
    "    data = []\n",
    "\n",
    "    for i, (img, part, prices, stocks) in enumerate(zip(image_titles, parts, price_parts_div, stock_parts_div), start=1):\n",
    "        print(i, \". Image Title:\", img['alt'])\n",
    "        match = re.search(pattern, img['alt'])\n",
    "\n",
    "        if match:\n",
    "            part_number_from_title = match.group(1)\n",
    "            part_number = part.find('div', class_='nf__part__detail__part-number').strong.text\n",
    "            manufacturer_number = part.find_all('div', class_='nf__part__detail__part-number')[1].strong.text\n",
    "            detail_title = part.find('a', class_='nf__part__detail__title').text.strip()\n",
    "            if part_number_from_title == manufacturer_number:\n",
    "                explanation_div = part.find('div', class_='nf__part__detail__symptoms')\n",
    "                explanation = explanation_div.previous_sibling.strip() if explanation_div else \"No explanation available\"\n",
    "                price = prices.find('div',class_='mt-sm-2 price').get_text(strip=True)\n",
    "                stock = stocks.find('div',class_='mb-1 mb-sm-2 js-tooltip').get_text(strip=True)\n",
    "                url = part.find('a', class_='nf__part__detail__title')['href']\n",
    "                data.append([part_number, manufacturer_number, url.split('-')[1], detail_title, explanation, price, stock, url])\n",
    "\n",
    "    with open('/Users/sarah_prakriti_peters/Documents/Instalily/data/dishwasher_parts.csv', mode='w', newline='', encoding='utf-8') as file:\n",
    "        writer = csv.writer(file)\n",
    "        writer.writerow(['Part_Number', 'Manufacturer_Part_Number', 'Manufacturer', 'Title', 'Description', 'Price', 'Stock','Product_link'])\n",
    "        writer.writerows(data)"
   ]
  },
  {
   "cell_type": "code",
   "execution_count": 88,
   "metadata": {},
   "outputs": [
    {
     "name": "stdout",
     "output_type": "stream",
     "text": [
      "1 . Image Title: Upper Rack Adjuster Kit - White Wheels, Left and Right Sides – Part Number: W10712395\n",
      "2 . Image Title: Rack Track Stop – Part Number: WP8565925\n",
      "3 . Image Title: Lower Dishrack Wheel – Part Number: W10195416\n",
      "4 . Image Title: BELT DRIVE – Part Number: WE03X29897\n",
      "5 . Image Title: Dishwasher Upper Rack Adjuster – Part Number: WPW10546503\n",
      "6 . Image Title: Lower Spray Arm – Part Number: 5304517203\n",
      "7 . Image Title: LOWER RACK ROLLER – Part Number: WD12X26146\n",
      "8 . Image Title: Refrigerator Water Filter – Part Number: RPWFE\n",
      "9 . Image Title: LOWER DISHRACK WHEEL ASSEMBLY – Part Number: WPW10195417\n",
      "10 . Image Title: Refrigerator Ice and Water Filter – Part Number: MWFP\n"
     ]
    }
   ],
   "source": [
    "get_dishwasher_details()"
   ]
  },
  {
   "cell_type": "code",
   "execution_count": 89,
   "metadata": {},
   "outputs": [],
   "source": [
    "dishwasher_df = pd.read_csv(\"/Users/sarah_prakriti_peters/Documents/Instalily/data/dishwasher_parts.csv\")"
   ]
  },
  {
   "cell_type": "code",
   "execution_count": 90,
   "metadata": {},
   "outputs": [],
   "source": [
    "symptoms_fixed_list = []\n",
    "replacements_list_list = []\n",
    "product_info_list = []\n",
    "average_product_rating_list = []\n",
    "average_customer_rating_list = []\n",
    "mpns = []\n",
    "\n",
    "# Iterate over each row in the DataFrame and call pull_product_specs function\n",
    "for link, mpn in zip(dishwasher_df['Product_link'], dishwasher_df['Manufacturer_Part_Number']):\n",
    "    symptoms_fixed, replacements_list, product_info, average_product_rating, num_reviews, average_customer_rating = pull_product_specs(link, mpn)\n",
    "    \n",
    "    # Append return values to lists\n",
    "    mpns.append(mpn)\n",
    "    symptoms_fixed_list.append(symptoms_fixed)\n",
    "    replacements_list_list.append(replacements_list)\n",
    "    product_info_list.append(product_info)\n",
    "    average_product_rating_list.append(average_product_rating)\n",
    "    # num_reviews_list.append(num_reviews)\n",
    "    average_customer_rating_list.append(average_customer_rating)\n",
    "\n",
    "# Create a new DataFrame with the return values\n",
    "data = {\n",
    "    'Manufacturer_Part_Number': mpns,\n",
    "    'Symptoms Fixed': symptoms_fixed_list,\n",
    "    'Replacements List': replacements_list_list,\n",
    "    'Product Info': product_info_list,\n",
    "    'Average Product Rating': average_product_rating_list,\n",
    "    # 'Number_of_reviews': num_reviews_list,\n",
    "    'Average Repair Rating': average_customer_rating_list\n",
    "}\n",
    "\n",
    "dishwasher_result_df = pd.DataFrame(data) "
   ]
  },
  {
   "cell_type": "code",
   "execution_count": 91,
   "metadata": {},
   "outputs": [],
   "source": [
    "questions_list, answers_list, model_numbers, mpns = [], [], [], []\n",
    "# Iterate over each row in the DataFrame and call pull_product_specs function\n",
    "for link, mpn in zip(dishwasher_df['Product_link'], dishwasher_df['Manufacturer_Part_Number']):\n",
    "    questions, answers, model_nos = qna(link)\n",
    "    \n",
    "    # Append return values to lists\n",
    "    questions_list.append(questions)\n",
    "    answers_list.append(answers)\n",
    "    model_numbers.append(model_nos)\n",
    "    mpns.append(mpn)\n",
    "\n",
    "# Create a new DataFrame with the return values\n",
    "data = {\n",
    "    'Manufacturer_Part_Number': mpns,\n",
    "    'Queries':questions_list,\n",
    "    'Answers':answers_list,\n",
    "    'Corresponding_model_numbers': model_numbers\n",
    "}\n",
    "\n",
    "qanda_dishwasher_df = pd.DataFrame(data)"
   ]
  },
  {
   "cell_type": "code",
   "execution_count": 92,
   "metadata": {},
   "outputs": [
    {
     "data": {
      "text/plain": [
       "(10, 16)"
      ]
     },
     "execution_count": 92,
     "metadata": {},
     "output_type": "execute_result"
    }
   ],
   "source": [
    "dishwasher_data = dishwasher_df.merge(dishwasher_result_df,on='Manufacturer_Part_Number').merge(qanda_dishwasher_df,on='Manufacturer_Part_Number')\n",
    "dishwasher_data.shape"
   ]
  },
  {
   "cell_type": "code",
   "execution_count": 93,
   "metadata": {},
   "outputs": [],
   "source": [
    "dishwasher_data.to_csv(\"/Users/sarah_prakriti_peters/Documents/Instalily/data/dishwasher_data.csv\")"
   ]
  },
  {
   "cell_type": "code",
   "execution_count": 94,
   "metadata": {},
   "outputs": [],
   "source": [
    "csv_file = \"/Users/sarah_prakriti_peters/Documents/Instalily/data/dishwasher_data.csv\"\n",
    "txt_file = \"/Users/sarah_prakriti_peters/Documents/Instalily/data/dishwasher_parts.txt\"\n",
    "with open(txt_file, \"w\") as my_output_file:\n",
    "    with open(csv_file, \"r\") as my_input_file:\n",
    "        [ my_output_file.write(\" \".join(row)+'\\n') for row in csv.reader(my_input_file)]\n",
    "    my_output_file.close()"
   ]
  },
  {
   "cell_type": "code",
   "execution_count": null,
   "metadata": {},
   "outputs": [],
   "source": []
  }
 ],
 "metadata": {
  "kernelspec": {
   "display_name": "interviews",
   "language": "python",
   "name": "python3"
  },
  "language_info": {
   "codemirror_mode": {
    "name": "ipython",
    "version": 3
   },
   "file_extension": ".py",
   "mimetype": "text/x-python",
   "name": "python",
   "nbconvert_exporter": "python",
   "pygments_lexer": "ipython3",
   "version": "3.12.1"
  }
 },
 "nbformat": 4,
 "nbformat_minor": 2
}
