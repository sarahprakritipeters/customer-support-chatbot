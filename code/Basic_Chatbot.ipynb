{
 "cells": [
  {
   "cell_type": "code",
   "execution_count": 18,
   "metadata": {},
   "outputs": [],
   "source": [
    "import os\n",
    "os.environ[\"OPEN_API_KEY\"] = \"your_api_key\""
   ]
  },
  {
   "cell_type": "code",
   "execution_count": 19,
   "metadata": {},
   "outputs": [],
   "source": [
    "OPENAI_API_KEY=\"your_api_key\""
   ]
  },
  {
   "cell_type": "code",
   "execution_count": 20,
   "metadata": {},
   "outputs": [],
   "source": [
    "import warnings\n",
    "warnings.filterwarnings(\"ignore\")"
   ]
  },
  {
   "cell_type": "markdown",
   "metadata": {},
   "source": [
    "# Building a Vector Database \n",
    "\n",
    "Step 1 is preparing a database that can be easily queried - this involves 3 steps \n",
    "\n",
    "1. Collect and load data\n",
    "2. Chunk documents\n",
    "3. Embed and store chunks"
   ]
  },
  {
   "cell_type": "code",
   "execution_count": 21,
   "metadata": {},
   "outputs": [],
   "source": [
    "from langchain_community.document_loaders.csv_loader import CSVLoader\n",
    "from langchain.text_splitter import CharacterTextSplitter\n",
    "from langchain.embeddings import OpenAIEmbeddings\n",
    "from langchain.vectorstores import Weaviate\n",
    "import weaviate\n",
    "from weaviate.embedded import EmbeddedOptions\n",
    "from langchain.prompts import ChatPromptTemplate\n",
    "from langchain.chat_models import ChatOpenAI\n",
    "from langchain.schema.runnable import RunnablePassthrough\n",
    "from langchain.schema.output_parser import StrOutputParser"
   ]
  },
  {
   "cell_type": "code",
   "execution_count": 22,
   "metadata": {},
   "outputs": [],
   "source": [
    "loader = CSVLoader(file_path=\"/Users/sarah_prakriti_peters/Documents/Instalily/data/fridge_data.csv\",\n",
    "                   csv_args={\"delimiter\": \",\"})\n",
    "data = loader.load()"
   ]
  },
  {
   "cell_type": "code",
   "execution_count": 23,
   "metadata": {},
   "outputs": [
    {
     "data": {
      "text/plain": [
       "[Document(page_content=': 0\\nPart_Number: PS11701542\\nManufacturer_Part_Number: EDR1RXD1\\nManufacturer: Whirlpool\\nTitle: Fridge Refrigerator Ice and Water Filter\\nDescription: This is an OEM replacement ice and water filter for your refrigerator. In side-by-side refrigerators, it is found in the top right corner or the bottom left grille. In bottom-freezer refrigerators, the filter is in the bottom left grille. In top-freezer units, the filter is located in the middle of the refrigerator. This NSF certified filter reduces 28 contaminants including pharmaceuticals, metals, minerals, pesticides, cysts, industrial chemicals, Class I Particulates and chlorine. It is made up of coconut carbon block and has three layers of filtration. The first layer is particle filtration that helps block larger contaminants. The second layer is micro-filtration, which prevents medium-sized impurities from passing. The third layer is called absorption filtration, which absorbs microscopic-sized pollutants. It measures 2 inches deep, 2 inches wide, 1-1/2 inches high, and weighs 0.5 lbs. To ensure your filter is working its best, it needs to be replaced every six months. This single filter has a simple, quick-turn installation feature that does not require any tools.\\nPrice: $90.73\\nStock: In Stock\\nProduct_link: /PS11701542-Whirlpool-EDR1RXD1-Refrigerator-Ice-and-Water-Filter.htm?SourceCode=18\\nSymptoms Fixed: Not dispensing water | Ice maker not making ice | Ice maker won’t dispense ice | Leaking\\nReplacements List: [\\'AP5982535\\', \\'9900\\', \\'9981\\', \\'FILTER 1\\', \\'FILTER1\\', \\'W10217316\\', \\'W10291030\\', \\'W10295370\\', \\'W10295370A\\', \\'W10569758\\', \\'W10569760\\', \\'W10569761\\', \\'W10735398\\']\\nProduct Info: Whirlpool, Maytag, KitchenAid, Kenmore.\\nAverage Product Rating: 4.8\\nAverage Repair Rating: 4.4 / 5.0, 15 reviews.\\nQueries: [\\'Your water filter w10295370a , what all does this filter out of the water that passes through it ?This is for model number Model number not found\\', \\'I have this Whirlpool and can not find where water filter is.This is for model number WRS325FDAM04\\', \\'The description says the filter is on the left bottom behind a kick plate; however, mine is located on the top right  that is in the refrigerator section. Is this the correct part?This is for model number MSS26C6MFW00\\', \"To replace the water filter, the small door on the left side of the kick plate should open.  Does it open from the right or the left?  It is hard to open and I\\'m afraid to force it as a previous question said they broke it off and it can\\'t be easily fixed.This is for model number KSC24C8EYB02\", \\'How do I repair the spring loaded door where the water filter goes. The spring came off and it is supposed to pull out the water filter when you open the little door with the spring.This is for model number WRS325FDAB02\\', \\'How often should i replace water and ice filter?This is for model number W10295370A\\', \\'My water filter light is on. The number on my current  filter does not match the replacement filter and i want to get the correct filter.This is for model number WRF560SEYW05\\', \\'I need to replace the water filter on my Whirlpool model #wsf26c3exw01. The numbers off the water filter is edr1rxd1/edr1rxd1b, cartridge #p8rfwb2l, model p8wb23. Please help me identify the right walter filter replacement to buy.This is for model number WSF26C3EXW01\\', \\'Is this water filter the right one for my model?This is for model number ASD2575BRW00\\', \\'Do you have the water filter for this model?This is for model number WSF26C2EXB01\\']\\nAnswers: [\\'Hi Greg, Thank you for the question. The filter reduces the most Contaminants based on NSF rated 6 month refrigerator filters flowing .Reduces 24 contaminants including: pharmaceuticals, metals, minerals, pesticides, cysts, industrial chemicals, Class I Particulates and Chlorine. Hope this helps!\\', \\'Hi Ken,\\\\n\\\\nThank you for your inquiry. For your model, the filter is hidden behind a small panel on the left hand side of your kickplate at the bottom of your refrigerator. You should be able to just open that panel and replace your filter. Good luck with your repair.\\', \\'Hello Judy,\\\\n\\\\nThanks for your question. Yes, this is the correct part for your model - its location can vary from model to model.\\\\n\\\\nI hope this helps.\\', \\'Hi Susan, Thank you for the question. Looks like your door opens from the bottom. Hope this helps!\\', \\'Hi Betty,\\\\n\\\\nThank you for the question. The only way to repair the filter door would be to replace the filter housing. Unfortunately they do not sell the door parts separately. \\\\n\\\\nHope this helps!\\', \\'Hello Doug, thank you for your question. We recommend you replace the water valve every 6 months to a year at the very least. Depending on your water, you may have to replace it more often. I hope this helps!\\', \\'Hello Sandra, thank you for your question. The most recent replacement filter part number for your specific appliance is EDR1RXD1. This will work with your model. Please enter the part number into the site for current price and availability. Good luck with your repair!\\', \\'Hello Marilyn, thank you for your question. The water filter specifically recommended for your appliance is PartSelect Number: PS11701542. Please enter the part number into the site for current price and availability. Good luck with your repair!\\', \\'Hello Martina, thank you for your question. Yes, filter part number PartSelect Number: PS11701542 is the correct filter for your specific unit. Good luck with your repair!\\', \\'Hello Thomas, thank you for inquiring. This Everydrop Ice and Water Filter part PS11701542 is the correct replacement for your model.\\']\\nCorresponding_model_numbers: [\\'Model number not found\\', \\'WRS325FDAM04\\', \\'MSS26C6MFW00\\', \\'KSC24C8EYB02\\', \\'WRS325FDAB02\\', \\'W10295370A\\', \\'WRF560SEYW05\\', \\'WSF26C3EXW01\\', \\'ASD2575BRW00\\', \\'WSF26C2EXB01\\']', metadata={'source': '/Users/sarah_prakriti_peters/Documents/Instalily/data/fridge_data.csv', 'row': 0}),\n",
       " Document(page_content=': 1\\nPart_Number: PS12364199\\nManufacturer_Part_Number: 242126602\\nManufacturer: Frigidaire\\nTitle: Fridge Refrigerator Door Shelf Bin\\nDescription: No explanation available\\nPrice: $42.86\\nStock: In Stock\\nProduct_link: /PS12364199-Frigidaire-242126602-Refrigerator-Door-Shelf-Bin.htm?SourceCode=18\\nSymptoms Fixed: Symptoms information not found\\nReplacements List: [\\'AP6278233\\']\\nProduct Info: Frigidaire.\\nAverage Product Rating: 4.8\\nAverage Repair Rating: 4.4 / 5.0, 20 reviews.\\nQueries: [\\'Is this a replacement for the bottom door bin for this model.?  i need it in clear not white.  is this the clear one-there was no photo of it on your site.This is for model number Lfss2612tpo\\', \\'Need a shelf for the frig door.  Are yours clear or white.  It does not sayThis is for model number Lfss2612tfo\\', \\'I need to order the second door bin for my fridge door and don’t know which one it is on your website since there is no pictureThis is for model number Lfss2612td0\\', \\'Need 4 clear refrigerator bins for a FrigidaireThis is for model number LFSS2612TEO\\', \\'Looking at your refrigerator door diagram, can you give me the style numbers for the two different size door bins and their respective dimensions? I am not sure which one I wish to buy.ThanksThis is for model number LFSS2612TF0\\', \\'What door bin is this on the fridge doorThis is for model number Model number not found\\', \\'Is this type of thing covered under the 1 year warranty?This is for model number Model number not found\\', \\'I received this part as promised, thank you. Is there a secret in installing this? I know its supposed to snap in so to speak, so what am I doing wrong?  I am totally challenged when it comes to doing anything in the home.  Thanks for your help.  ArthurThis is for model number PS12364199\\', \\'Is 25.03 the price for a single binThis is for model number LFSS2612TFO\\', \\'Part # 4 on the refer door can it be exchanged for part #2This is for model number FFSS2615TPO\\']\\nAnswers: [\\'Hello Diane, Thank you for contacting us. PS12364199 is the part number of the clear bottom door bin on the refrigerator door. Have a great day!\\', \\'Hello Caryn, Thank you for the question. The top two bins for this model number is PartSelect Number PS430122 and they show to be clear. The bottom two bins are PartSelect Number PS12364199 and are also clear for this model. Hope this helps!\\', \\'Hello Alicia, Thank you for contacting us. I have researched the model you have provided and have found the part you are looking for is Part #: PS430122 for the top two bins and Part #: PS12364199 for the bottom two bins. Hope this helps!\\', \\'Hi Charlene,\\\\nThank you for your question.  The part number listed under your model number for the 2 upper refrigerator door bins is PS430122 and the part number listed for the 2 lower refrigerator door bins is PS12364199. To place an order for the parts you may order them either online, by visiting our live chat sessions, Monday to Friday from 8AM to 4PM EST, or by calling our customer service line at 1-888-738-4871 and anyone will be happy to assist you. We hope this helps.  Thank you and have a great day.\\', \\'Hello Arthur, Thank you for contacting us. I have researched the model you have provided and have found the part you are looking for is Part #: PS430122 for the top two bins and Part #: PS12364199 for the bottom two bins. These are the bins to fit your appliance. Since the measurements we have go by a 1\" grid and the bins do not sit flat we do not have the exact dimensions but we can guarantee these are correct for your appliance using the model number. Hope this helps!\\', \\'Hello Alicia, thank you for contacting us, In order for us to locate the correct parts and repair information we will require the model number of the unit. Once you have located the model number please feel free to resubmit the question and we will be happy to help you. Look forward to hearing from you!\\', \\'Hello Heather, yes if you order a part with us it is covered under our 1 year warranty. Please give us a call at 1-888-260-4310 for further assistance.\\', \\'Hi Arthur,\\\\nThank you for your question.  Based on information that we received from customers regarding the part, it should just snap into place.  For more information you will need to contact Frigidaire.  Their telephone number is 1-800-374-4432 extension 0. I hope this helps.  Thank you and have a great day!\\', \\'Hello Barb, thank you for your question. Yes, the price is per bin and they are sold individually. I hope this helps.\\', \\'Hi Joe, figure 2 is a door gasket and figure 4 is a door shelf bin, they are not interchangeable/exchangeable. Thank you for your question and good luck with your repair!\\']\\nCorresponding_model_numbers: [\\'Lfss2612tpo\\', \\'Lfss2612tfo\\', \\'Lfss2612td0\\', \\'LFSS2612TEO\\', \\'LFSS2612TF0\\', \\'Model number not found\\', \\'Model number not found\\', \\'PS12364199\\', \\'LFSS2612TFO\\', \\'FFSS2615TPO\\']', metadata={'source': '/Users/sarah_prakriti_peters/Documents/Instalily/data/fridge_data.csv', 'row': 1}),\n",
       " Document(page_content=': 2\\nPart_Number: PS16542496\\nManufacturer_Part_Number: WE03X29897\\nManufacturer: GE\\nTitle: Fridge BELT DRIVE\\nDescription: This Drive Belt is 89.5\" long and comes in black, featuring four ribs on the inside for a better grip. This is a long belt that wraps all the way around the dryer drum, around a tension pulley, and then around the drive motor pulley, allowing all the parts to work together, spinning the drum as the motor rotates. If the drum will not turn when the dryer is turned on the belt is likely broken. It is common for belts to stretch or become brittle over time, which is what leads to the breakage. If broken, it should be replaced; the drum simply cannot spin without this belt. Refer to your model number and user manual to check if this part is right for you. Ensure you use work gloves to protect your hands from sharp internal parts during this repair. Please note: When comparing the length of your old belt to the length of the belt as stated here, remember that a small amount of stretching and contortion may occur with belts over time for a range of different reasons. Unless your belt is drastically different in length, this belt is what you are looking for despite any small inaccuracies. You will need to remove power to your appliance, remove the main panel, and access the motor drive to slip your new belt back into place.\\nPrice: $36.13\\nStock: In Stock\\nProduct_link: /PS16542496-GE-WE03X29897-BELT-DRIVE.htm?SourceCode=18\\nSymptoms Fixed: Noisy | Drum Not Spinning | Won’t Start\\nReplacements List: [\\'WE12M0022\\', \\'WE12M22\\', \\'WE12M29\\', \\'WE12M33\\', \\'WE12X21574\\']\\nProduct Info: General Electric, Hotpoint, Kenmore.\\nAverage Product Rating: 4.8\\nAverage Repair Rating: 2.8 / 5.0, 65 reviews.\\nQueries: [\\'is motor supposed to stay running after pressing start button with the belt offThis is for model number GTDP180EDOWW\\', \\'I have a very bad squeaking noise happening when dryer is running. I’m assuming it needs a new belt. Could it been anything else?This is for model number DPSR483EAOWW\\', \\'Im not sure of the model. But the belt is 1/8 in thick and 89 in long it ropp3d so im not sure... but im wondering if the width will fitThis is for model number GTDP350GMWS\\', \\'How do you if it is the belt? This just stop after turning it on.\\\\nDoes it need two belts?This is for model number GTDP280ED0WW\\', \\'Do you have a belt compatible with the GE dryer model # DHDSR46GG7WW?This is for model number DHDSR46GG7WW\\', \\'I need washer belt onlyThis is for model number MUD27GESNOWW\\', \\'Dryer turns on when pushing button stops when let go of button and drum doesn’t spin\\\\nIs that a symptom of a broken belt ?This is for model number GTD42EASJ2WW\\', \\'I need a belt for my ge dryer but I dont know the parts number  the only 2 number  are GTD33EASKOWW.     AM839292CThis is for model number GTD33EASKOWW\\', \\'Does it use a 27 in belt or smallerThis is for model number Gtdp180edoww\\']\\nAnswers: [\\'Hi Monte,\\\\nThank you for your question.  The motor will still run, but the drum will not turn.  If you need a new belt, the part number listed for it is PS16542496.  If you would like to place an order for it, please call our customer service line and anyone will be happy to assist you.  We look forward to hearing from you!\\', \\'Hello Steven, thank you for getting in touch. Based on our understanding of the issue, we would suggest you replace the drive belt, part number PS16542496, to fix the issue. We hope this helps, good luck with this repair!\\', \\'Hello Ariel, thank you for your question! The overall dimensions of the mentioned belt are: 89-1/2\"L x 1/4\"W x 1/8\"H. We hope this is what you were looking for!\\', \\'Hello Jerri, Thank you for your inquiry. Check the belt for any excessive wear and tear and to see if it came off the pulley. The model number that you have provided only uses one belt. The other causes of this issue could be a faulty drive motor, a faulty belt interlock switch, or a faulty door switch. You can test the parts with a multimeter. If you are unfamiliar with how a multimeter functions, we have videos available to assist you. Good luck with your repair.\\', \\'Hello Denise, thank you for contacting us. The compatible belt for your model is the belt drive, part number PS16542496. It attaches to the motor pulley and spins the drum as the motor rotates. Glad to be of assistance!\\', \\'Hello Dung, thank you for contacting us. The part you are looking for is the drive belt, part number PS12342956. We hope this helps.\\', \\'Hi Steve, thank you for contacting us. We have narrowed the issue down to the following parts: the start button assembly, part number PS11766637, the start switch, part number PS3487190, the felt seal, part number PS12722961, and the drive belt, part number PS16542496. Good luck with the repair!\\', \\'Hi Annette, thank you for reaching out. The part you are looking for is the drive belt, part number PS16542496. We hope this helps!\\', \\'Hello Donnie, thank you for the question. This drive belt, part number PS16542496, is 89.5 inches long. Glad to be of assistance!\\']\\nCorresponding_model_numbers: [\\'GTDP180EDOWW\\', \\'DPSR483EAOWW\\', \\'GTDP350GMWS\\', \\'GTDP280ED0WW\\', \\'DHDSR46GG7WW\\', \\'MUD27GESNOWW\\', \\'GTD42EASJ2WW\\', \\'GTD33EASKOWW\\', \\'Gtdp180edoww\\']', metadata={'source': '/Users/sarah_prakriti_peters/Documents/Instalily/data/fridge_data.csv', 'row': 2}),\n",
       " Document(page_content=': 3\\nPart_Number: PS11752778\\nManufacturer_Part_Number: WPW10321304\\nManufacturer: Whirlpool\\nTitle: Fridge Refrigerator Door Shelf Bin\\nDescription: This manufacturer-certified Refrigerator Door Shelf Bin, also known as the crisper bin and door shelf bin, is made of clear plastic, and is easy to install. It is used to hold items in the fridge door, like jars, bottles, cans, and condiments, and this item is clear with white trim around its top edge and you\\'ll be able to visually see if the part is broken. This particular shelf attaches to the fridge door. You can check if this model is right for your appliance by checking your user manual and model number. This individually-sold door bin fits many different models of side-by-side refrigerator, and can be installed with the use of no tools.\\nPrice: $47.83\\nStock: In Stock\\nProduct_link: /PS11752778-Whirlpool-WPW10321304-Refrigerator-Door-Shelf-Bin.htm?SourceCode=18\\nSymptoms Fixed: Door won’t open or close | Ice maker won’t dispense ice | Leaking\\nReplacements List: [\\'AP6019471\\', \\'2171046\\', \\'2171047\\', \\'2179574\\', \\'2179575\\', \\'2179607\\', \\'2179607K\\', \\'2198449\\', \\'2198449K\\', \\'2304235\\', \\'2304235K\\', \\'W10321302\\', \\'W10321303\\', \\'W10321304\\', \\'W10549739\\', \\'WPW10321304VP\\']\\nProduct Info: Whirlpool, Kenmore, Maytag, KitchenAid.\\nAverage Product Rating: 4.8\\nAverage Repair Rating: 5.0 / 5.0, 29 reviews.\\nQueries: [\\'How do I replace this binThis is for model number Model number not found\\', \\'On my fridge door I have small shallow bins and larger deeper bins. I don’t know what they’re called but I need to order the larger deeper bin. Is that what this is?This is for model number Model number not found\\', \\'I want to make sure this door unit fits my frig.  Not sure where you are measuring width--at front it might be 14 1/4, but at back it is wider and more like 16\"  also rather than 6\" deep, it is more like 7 1/2.  Am i ordering the right cantilever part?This is for model number ED5FVGXWS01\\', \\'I have this model of Whirlpool refrigerator and the bin on the door is broken.  Will the model # wpw10321304 work for it?  Thanks.SherieThis is for model number Whirlpool #wsf26c3exw01\\', \\'Need the lower door bin. PleaseThis is for model number WSF26C3EXF01\\', \\'What are the measurements plsThis is for model number Model number not found\\', \"Two of the door bins have cracked and won\\'t hold anything heavy.  I need replacement ones, but your site doesn\\'t list this model.  I\\'m afraid to purchase the clear ones you have available for fear they won\\'t fit.  Please advise!This is for model number whirlpool FD5VHEXVB08\", \\'I’m looking for meat pan, door shelf bin, crisper panThis is for model number Wrs325fdam\\', \\'Can you purchase a door bin or door shelf bin for the above refrigerator? If so could you supply me with the part number? The bin is approximately 12 x 3 1/2 x 7This is for model number ET1FHTXMQ01\\', \\'I need to replace the top door bin below the one for butter, etc that has a clear cover.  My bins are solid white, not clear. What model bin will work? ThanksThis is for model number ED2KHAXVL00\\']\\nAnswers: [\\'Hello Casey, thanks for reaching out to us. If the old bin is still in place, simply grab onto it with both hands and lift it away from the door, it should come right off. To install your new bin, line it up where the old bin was and simply drop it into place. Good luck with your repair.\\', \\'Hi Fin, thanks for your question. The large door shelf bin is known as a cantilever bin. The part number you need is WPW10321304. I hope this helps!\\', \\'Hello Cindy, thank you for your question. We put all of our pictures of parts on a 1 inch square grid to help give an approximate measurement. At the front the bin would be about 14 1/4 and the back is a bit wider at about 16 inches. So part number WPW10321304 is the correct bin for the fridge door. I hope this helps!\\', \"Hello Sherie, thank you for inquiring. Door Bin PS11752778 is the refrigerator\\'s Lower Door Bin. The Upper Door Bin is PS11752309.\", \\'Hello Dhonna, Thank you for contacting us. I have researched the model you have provided and have found the part you are looking for is PartSelect Number PS11752778. Hope this helps!\\', \\'Hello Gwen, your refrigerator requires the door bin with part number WPW10321304, it is approximately 14 1/4\" wide and 6\" from front to back. Please let us know if you have any further questions.\\', \\'Hi Margaret,\\\\nThank you for your question.  There is a white plastic door bin listed under your model number.  The part number for it is PS11739091.  I hope this helps.  Thank you and have a great day!\\', \\'Hello Melvin, Thank you for your inquiry. The door shelf bin is part# WPW10321304, the meat pan is part# WP2188664, and the crisper drawer is part# WP2188656. Hope this helps!\\', \\'Hello Maxine, Thank you for contacting us. I have researched the model you have provided and have found the part you are looking for is PartSelect Number PS11739606. Thank you for your inquiry, good luck with this repair!\\', \\'Hello Julie, Thank you for contacting us. I have researched the model you have provided and have found the part you are looking for is PartSelect Number PS11752778. Hope this helps!\\']\\nCorresponding_model_numbers: [\\'Model number not found\\', \\'Model number not found\\', \\'ED5FVGXWS01\\', \\'Whirlpool #wsf26c3exw01\\', \\'WSF26C3EXF01\\', \\'Model number not found\\', \\'whirlpool FD5VHEXVB08\\', \\'Wrs325fdam\\', \\'ET1FHTXMQ01\\', \\'ED2KHAXVL00\\']', metadata={'source': '/Users/sarah_prakriti_peters/Documents/Instalily/data/fridge_data.csv', 'row': 3}),\n",
       " Document(page_content=': 4\\nPart_Number: PS438018\\nManufacturer_Part_Number: 316075103\\nManufacturer: Frigidaire\\nTitle: Fridge Oven Bake Element\\nDescription: The Oven Bake Element is a black, metal part which supplies heat to the oven. This element is 19-1/2\" wide x 18-1/2\" long and has 3-1/2\" inserts. It is rated as \"Easy\" to install by users, and attaches to the bottom of the oven. If you notice visible damage, or that your oven is not receiving heat properly then it may be a problem with this part. Check your model number and user manual to see if this is the right part for you. It is important for you to disconnect your appliance from the power source before performing this repair. After disconnecting your appliance, remove the two screws/nuts connecting the old element, pull it out, and discard if faulty. Simply connect the new element prongs where the old element fit, and screw it back in. You may need a flashlight when making this repair.\\nPrice: $47.59\\nStock: In Stock\\nProduct_link: /PS438018-Frigidaire-316075103-Oven-Bake-Element.htm?SourceCode=18\\nSymptoms Fixed: Little to no heat when baking | Element will not heat | Oven not heating evenly | Will Not Start\\nReplacements List: [\\'AP2125026\\', \\'09990062\\', \\'316075100\\', \\'316075102\\', \\'316075104\\', \\'316282600\\', \\'3203534\\', \\'AP4356505\\', \\'F83-455\\']\\nProduct Info: Frigidaire, Tappan, Kenmore, Crosley.\\nAverage Product Rating: 4.8\\nAverage Repair Rating: 4.6 / 5.0, 303 reviews.\\nQueries: [\\'I think it would be good to tell people to make sure the power is offThis is for model number Model number not found\\', \\'How to install heating element in bottom of oven?This is for model number 79096010407\\', \\'If my bottom heating element is broken can it cause the top part of the stove to not hear correctlyThis is for model number TEF361GSB\\', \"Can you use the broil element for the bake element cause i don\\'t use the broiler at al so would it workThis is for model number FEF326ABM\", \\'My bottom element heats fine. Since i purchased a new element some time back i have smut on my lower part of oven and on the element every time i cook something. I do not know what causes it. Will a new element help? Thank you.This is for model number FEFL64FSD\\', \\'Frigidaire oven element quick heating, so i know it needs to be replaced. My question is: Do i have the right model number to order a new one?This is for model number FEF366EBE oven heat element\\', \"My oven has a new bottom element but it still won\\'t heat upThis is for model number Model number not found\", \\'Does this part work with this modelThis is for model number FEF352AWE\\', \\'I need both top and bottom elements bottom element is 15 inches longThis is for model number vf91725643\\', \\'Will this particular element workThis is for model number FFEF3003NWA\\']\\nAnswers: [\\'Hi William, thank you for contacting us. Yes, it is always best that before doing any repair you make sure your appliance is not connected to power so that you do not harm yourself or break something else on the appliance. Have a great day.\\', \\'Hello Maureen, Thank you for the question. Here is a link to a How To video that may help. Good luck with the repair! \\\\n\\\\nhttps://www.youtube.com/watch?v=1E0VmuFtfXM\\', \"Hello Dustin, thank you for your question. No, any oven issues shouldn\\'t cause the top burners to be affected. The top burners are controlled by burner switches behind the temperature knobs and the oven control board and oven sensor control the oven elements and heating. I hope this helps.\", \\'Hello Ralph, thank you for your question. Unfortunately, the broil element will not work for the bake element. To replace the bake element you would have to purchase PartSelect Number: PS438018. I hope this helps!\\', \\'Hello Betty, Thank you for contacting us. It is possible that the bake element is faulty. I suggest checking it with a multimeter. You should get a reading between 0-50 ohms. Good luck with your repair!\\', \\'Hello Betty, Thank you for contacting us. After reviewing your model number I show PS438018 is the part number for the bake element for this model. Good luck with your repair!\\', \\'Hello Vanessa, thank you for contacting us, In order for us to locate the correct parts and repair information we will require the model number of the unit. Once you have located the model number please feel free to resubmit the question and we will be happy to help you. Look forward to hearing from you!\\', \\'Hello Darlene, Thank you for contacting us. I have researched the model you have provided and have found the part you are looking for is PartSelect Number PS438018. Thank you for your inquiry, good luck with this repair!\\', \\'Hello John, thank you for contacting us, In order for us to locate the correct parts and repair information we will require the model number of the unit. vf91725643 looks to be a serial number. Once you have located the model number please feel free to resubmit the question and we will be happy to help you. Look forward to hearing from you!\\', \\'Hello Amy, Thank you for contacting us. I have researched the model you have provided and have found the part you are looking for is PartSelect Number PS438018. Thank you for your inquiry, good luck with this repair!\\']\\nCorresponding_model_numbers: [\\'Model number not found\\', \\'79096010407\\', \\'TEF361GSB\\', \\'FEF326ABM\\', \\'FEFL64FSD\\', \\'FEF366EBE oven heat element\\', \\'Model number not found\\', \\'FEF352AWE\\', \\'vf91725643\\', \\'FFEF3003NWA\\']', metadata={'source': '/Users/sarah_prakriti_peters/Documents/Instalily/data/fridge_data.csv', 'row': 4}),\n",
       " Document(page_content=': 5\\nPart_Number: PS734935\\nManufacturer_Part_Number: 240534901\\nManufacturer: Frigidaire\\nTitle: Fridge Door Shelf Retainer Bar\\nDescription: This door shelf retaining bar, also known as refrigerator door bar retainer or fridge door rack, is a genuine part sourced from the original manufacturer. It is a white This manufacturer-certified Door Shelf Retainer Bar, sometimes otherwise known as the door rack or bar retainer,  is a white, plastic part which can be easily installed onto the inside of the refrigerator or freezer door to hold items on the door shelves.  It holds items in your fridge and will show physical damage if broken or warped, at which time it should be replaced. Check your user manual and model number to see if this part is right for you. No tools are required for this installation, the part should simply snap into place. This part measures roughly 25 inches wide, 3 inches high, and 5 inches deep. This part is sold individually, and we recommend checking the other door shelf retaining bars on your refrigerator or freezer at the same time as ordering this part to ensure that no others need to be replaced, as they often wear or warp at similar speeds.\\nPrice: $41.43\\nStock: In Stock\\nProduct_link: /PS734935-Frigidaire-240534901-Door-Shelf-Retainer-Bar.htm?SourceCode=18\\nSymptoms Fixed: Door won’t open or close | Leaking\\nReplacements List: [\\'AP3214630\\', \\'948954\\', \\'240534901\\']\\nProduct Info: Frigidaire, Kenmore, Crosley, Westinghouse.\\nAverage Product Rating: 4.7\\nAverage Repair Rating: 4.9 / 5.0, 36 reviews.\\nQueries: [\\'Is this bar used for different shelves in my fridge? Bought a new fridge and it is missing all the shelves on the door.This is for model number Model number not found\\', \\'This door shelf retainer bar 240534901 can be used at the upper or the lower level. You will need to order a different replacement part for the middle level. What is the replacement part number for the middle level door shelf retainer bar?This is for model number Kenmore 253.68802015\\', \\'Is this the same part number for all three door shelves?This is for model number 2537482240G\\', \\'Hello..i am looking for a shelf retaining bar for the freezer door.  the shelf is approximately 22.5 inches wide.  it looks like part number  240534901, but this one seems to be a bit long as it is described as being 25 inches wide.This is for model number Kenmore 970-419222\\', \\'When I opened my fridge door today I used too much power and the door flew open and all the things on the top shelf went crashing and I warped the bar on the top shelf. I’m not sure what it’s called but now every time I open my fridge door I have to be careful otherwise everything will fall out. Is there any way I can fix this part? If not what do I need to replace it, will I need to buy tools too?This is for model number Model number not found\\', \\'I am looking for the door side shelves, the bottom 2 brackets. Can you please let me know which one i need to order? Thank youThis is for model number WRT8G3EWV\\', \\'My retainer bar is not staying in place but I know it is the right one that I need can you helpThis is for model number Model number not found\\', \\'I am not sure which door bar i need for this model refrigerator?   It is missing a lowest bar on the fridge doorThis is for model number FFtr21d2pw5\\', \"Is part 240534901 the part I need to replace on my refrigerator door or is the part that ends in 701--the freezer shelves are smaller(i don\\'t need those) and i don\\'t want to order the wrong partThis is for model number 25368882014\", \\'Looking for 2 bars at side of fridge, confused which ones i needThis is for model number LFTR1821T\\']\\nAnswers: [\\'Hi Wayne, yes, this door shelf retainer bar 240534901 can be used at the upper or the lower level. You will need to order a different replacement part for the middle level. Please let us know if you have any further questions.\\', \\'Hello April, Thank you for your inquiry. Part# 240534701 is the shelf retainer bar for the middle. Hope this helps!\\', \\'Hi Crystal,\\\\nThank you for your question.  The door shelves on the refrigerator door are different.  The top and bottom door shelves are the same.  The part number listed under your model number for the top and bottom door shelf is PS7344935.  The part number listed under your model number for the middle door shelf is PS734936.  I hope this helps.  Thank you and have a great day!\\', \\'Hello Mara, thank you for inquiring. The correct replacement Freezer Door Shelf Retainer Bar for your model is part PS734937. Good luck with your repair!\\', \\'Hi Randy, unfortunately sometimes the shelf retainer bars can snap or warp, and when this happens you need to replace them. This would be the top shelf bar, and no tools are required to make this repair. Best of luck!\\', \\'Hello Gabrielle, Thank you for contacting us. I have researched the model you have provided and have found the parts you are looking for are PS734935 Door Shelf Retainer Bar x2, PS734936 Door Shelf Retainer Bar. I am sorry I do not understand which part you are referring to in reagrds to the \"brackets\". The connection pieces for the bars will come already attached to the retainer bar. I welcome you to submit a follow up with more information.\\', \\'Hello Marianna, we recommend checking the part for damage on either end, if it is not damaged make sure to apply some pressure when installing it on to your refrigerator door. These parts can be fragile so be careful not to apply too much pressure. You will know the bar is in the right place when you hear a clicking sound as it settles. I hope this helps.\\', \\'Hello Nancy, thank you for your question. The lowest bar on the fridge door is Part #: PS734935. Please enter the part number into the site for current price and availability. Good luck with your repair!\\', \\'Hi Stephen,\\\\nThank you for your question.  Yes, this would be the correct door shelf retainer for your refrigerator door.  This retainer bar would be used for the top and bottom of the refrigerator door.  The part number listed under your model number for the middle door shelf retainer bar is PS734936.  We hope this helps.  Thank you and have a great day!\\', \\'Hello Michal , Thank you for contacting us. I have researched the model you have provided and have found the part you are looking for is Part #: PS734935 for the top and bottom and the middle is Part #: PS734936. Hope this helps!\\']\\nCorresponding_model_numbers: [\\'Model number not found\\', \\'Kenmore 253.68802015\\', \\'2537482240G\\', \\'Kenmore 970-419222\\', \\'Model number not found\\', \\'WRT8G3EWV\\', \\'Model number not found\\', \\'FFtr21d2pw5\\', \\'25368882014\\', \\'LFTR1821T\\']', metadata={'source': '/Users/sarah_prakriti_peters/Documents/Instalily/data/fridge_data.csv', 'row': 5}),\n",
       " Document(page_content=': 6\\nPart_Number: PS11722130\\nManufacturer_Part_Number: EDR4RXD1\\nManufacturer: Whirlpool\\nTitle: Fridge Refrigerator Water Filter\\nDescription: This water filter (Whirlpool EveryDrop Refrigerator Water Filter, Single Turn Filter) purifies water going to the water dispenser and sometimes the icemaker as well. This part should be replaced if it is causing reduced water flow or just replaced periodically per the owner manual. Replacing this water filter may fix a noisy or leaking fridge, a fridge that is not dispensing water (or reduced flow rate), and an ice maker that is not making ice at all, or not making enough ice. This filter is white, sold individually and measures 8 inches by 3 inches in diameter. This water filter has been updated by the manufacturer. It may appear different but will still function the same. It is sold individually.\\nPrice: $90.73\\nStock: In Stock\\nProduct_link: /PS11722130-Whirlpool-EDR4RXD1-Refrigerator-Water-Filter.htm?SourceCode=18\\nSymptoms Fixed: Not dispensing water | Ice maker not making ice | Leaking | Ice maker dispenses too little ice\\nReplacements List: [\\'AP5983564\\', \\'12589201\\', \\'12589203\\', \\'12589206\\', \\'12589208\\', \\'12589210\\', \\'13040201\\', \\'13040210\\', \\'13040214\\', \\'13040216\\', \\'13040216N\\', \\'13040218\\', \\'4396395\\', \\'67002269\\', \\'67002671\\', \\'67003523\\', \\'67003523A\\', \\'67003526\\', \\'67003591\\', \\'67003640...Show more\\', \\'67003727\\', \\'67006464\\', \\'67006467\\', \\'67006468\\', \\'67006469\\', \\'67006470\\', \\'67006470A\\', \\'67006474\\', \\'67006475\\', \\'67006476\\', \\'67006477\\', \\'67006633\\', \\'67006634\\', \\'67006637\\', \\'8171032\\', \\'8171249\\', \\'9006\\', \\'9984\\', \\'9992\\', \\'EVFILTER4\\', \\'FILTER4\\', \\'UKF8001\\', \\'UKF8001AXX\\', \\'UKF9001\\', \\'UKF9001AXX\\', \\'W10181835\\', \\'W10336197\\', \\'W10336197N\\', \\'W10735404\\', \\'W11256384\\', \\'WF-50\\', \\'WF50\\', \\'WF50-NI300\\', \\'WF50-NI500Show less\\']\\nProduct Info: Maytag, Amana, KitchenAid, Whirlpool.\\nAverage Product Rating: 4.6\\nAverage Repair Rating: 4.4 / 5.0, 41 reviews.\\nQueries: [\\'I changed the water filter in my fridge because the order and replace light went from green to red. Now that its been replaced how do I make the light go back to green? Will it reboot on its own?This is for model number Model number not found\\', \\'My icemaker just stopped making ice and I know I need to replace the water filter ive just been dragging my feet about it. Is the icemaker cut off now because I need to replace my filter or is there another reason for it stopping now?This is for model number Model number not found\\', \\'I just replaced my water filter on my Whirlpool gold however its making ice but its not dispensing water or ice. What van i do?This is for model number G15SVAXVL01\\', \\'How do you remove water filter?This is for model number wrx735sdbm00\\', \\'Our fridge section is too cold. Adjusting the digital thermostat does not seem to help much.Water filter replacement comes up as the #1 solution.How does the water filter function affect fridge temp? Does seem to make sense.  Thanks.This is for model number GZ25FSRXYY0\\', \"I didn\\'t know I had to replace my water filter in my fridge. How often do you recommend we replace them?This is for model number Model number not found\", \\'My refrigerator is leaking water into the freezer. My model has the freezer on the bottom. Which part do you think i needThis is for model number gz25fsrxyy0\\', \"The water filter cover keeps on opening and the filter keeps dropping down.  The little plastic clip is not holding the door in place.  I can\\'t seem to find the part anywhere for my kitchen aide refrigerator.  I am using a soda bottle to  hold the filter in place.This is for model number kfis27cxwh3\", \\'The install video does not show shutting the water.  Is it not necessary to shut off the water?This is for model number MFI2269FRW00\\', \\'When I opened the filter cover the filter did not drop down like it did in the video. It is lodged in the compartment. How do I release it?This is for model number MF12269FRZ02\\']\\nAnswers: [\\'Hi Brian, after replacing the filter you can hold the reset filter pad for 3 seconds. This should turn the light off. Best of luck with this repair.\\', \\'Hello Jones, we recommend replacing the water filter every 6 months, depending on how often you use it. Replacing or not replacing the filter would only affect the water dispenser, not the icemaker. The most common reason an icemaker does not get water would be a defective water valve WPW10270395. I hope this helps.\\', \\'Hi Ivan,\\\\nThank you for your question.  If there is no water or ice being dispensed, I would check the switch in the dispenser with a multimeter to see if it is working correctly.  I hope this helps.  Thank you and have a great day!\\', \\'Hello Richard,\\\\n\\\\nThanks for your question. Open up the fridge section, and the filter will be in the back corner of the compartment. Open up the plastic covering. You will need to twist the filter counterclockwise, then remove it.\\\\n\\\\nI hope this helps.\\', \\'Hi Steve, Thank you for the question, The suggestions are based on previous customers and what reason they gave for replacing a part. A customer replacing the filter may have clicked the wrong option in error. I suggest checking to make sure the Damper Control Assembly is not stuck open and allowing too much cold air through from the freezer. You can check to see if the flapper has froze open or if there is something blocking the flapper not allowing it to close.Hope this helps!\\', \\'Hi Jauna, we recommend replacing the water filter every 6 months to guarantee impurities are properly removed from your water, and there is a consistent flow rate. Please let us know if you have any further questions.\\', \\'Hello Walter,\\\\n\\\\nThank you for the great question. Checking the symptom list something to check would be the water filter, If it needs to be replaced it might leak or if it is loose.You can also check to see if the reservoir tank at the back of the appliance has no leaks or the lines going to the tank. \\\\n\\\\nI hope this helps!\\', \\'Hello Greg, Thank you for your inquiry. The latch or clip for the filter cover is part# WP2223877. Hope this helps!\\', \\'Hi Charles,\\\\nThank you for your question.  No, you will not need to turn the water off to perform this repair.  I hope this helps.  Thank you and have a great day!\\', \\'Hello Wayne, Thank you for the question. If the filter is stuck, you may need to remove the Filter bracket, Part #: PS2069868 and cover Part #: PS11743682 to remove the filter. I also suggest checking them for any damage causing the filter to get stuck. Hope this helps!\\']\\nCorresponding_model_numbers: [\\'Model number not found\\', \\'Model number not found\\', \\'G15SVAXVL01\\', \\'wrx735sdbm00\\', \\'GZ25FSRXYY0\\', \\'Model number not found\\', \\'gz25fsrxyy0\\', \\'kfis27cxwh3\\', \\'MFI2269FRW00\\', \\'MF12269FRZ02\\']', metadata={'source': '/Users/sarah_prakriti_peters/Documents/Instalily/data/fridge_data.csv', 'row': 6}),\n",
       " Document(page_content=\": 7\\nPart_Number: PS11739119\\nManufacturer_Part_Number: WP2188656\\nManufacturer: Whirlpool\\nTitle: Fridge Refrigerator Crisper Drawer with Humidity Control\\nDescription: The crisper drawer (Crisper Pan, Refrigerator Crisper Drawer) with humidity control is meant to keep your vegetables and fruit as fresh as possible by allowing you to regulate the humidity levels within the drawer. It attaches on the inside of your refrigerator to the bottom of the crisper shelf. This drawer can break from misuse or accidental damage. It is also subject to material fatigue over time. If broken or damaged, it may be difficult to slide the drawer in and out, and it should be replaced. This plastic drawer measures 14.92 inches long, 7.6 inches high, and 16.5 inches wide and comes in white/clear.\\nPrice: $79.63\\nStock: In Stock\\nProduct_link: /PS11739119-Whirlpool-WP2188656-Refrigerator-Crisper-Drawer-with-Humidity-Control.htm?SourceCode=18\\nSymptoms Fixed: Door won’t open or close | Ice maker not making ice | Leaking | Touchpad does not respond\\nReplacements List: ['AP6006055', '2173384', '2173386', '2173694', '2174109', '2174416', '2175075', '2179281', '2179347', '2188652', '2188656', '2189529', '2189629', '2194072', '2194078', '2194081', '2194087', '2194904', '2194914', '2194978...Show more', '2194979', '2196160', '2196230', '2196232', '2197834', 'WP2188656VPShow less']\\nProduct Info: Whirlpool, Kenmore, Maytag, KitchenAid.\\nAverage Product Rating: 4.8\\nAverage Repair Rating: 4.9 / 5.0, 114 reviews.\\nQueries: ['I cannot tell if this is the right drawer for my fridge. I am looking for a humidity drawer that is about 14 inches long and 16.5 wide and 8 inches deep. What are the measurementsThis is for model number Model number not found', 'Your website led me here to replace my broken drawer. But in the picture your part says Humidity Control and mine says Produce Saver. Is this really the part I need? TIAThis is for model number Model number not found', 'Can you confirm this is the part I need for my fridge? The bottom of my crisper drawer is cracked and needs replacing. With that said my fridge is a different brand than the manual, and the drawer is a different brand than both the manual and the fridge. Is that normal?This is for model number Model number not found', 'I need to replace my crispier pan because both side is cracked. Is this the right part for my model?This is for model number ED5FHAXSQ00', 'This is a refrigerator i bought in 2001...the part i need is a left sided crisper drawer/bin with a slanting back....the pull out handle  section has a piece broken off leaving a rather Sharp edge on the pull piece... i do not have the part # on the crisper/bin/drawer        thank youThis is for model number ROPER 125204 RT18AKXJW', 'I need to replace my humidity drawer and also need the humidity control housing and slider.  Does the drawer come with the housing and the slider?This is for model number Model number not found', 'I need to replace the humidifier drawer in my 2015 Whirlpool refrigerator.  The back wall of the drawer is on an angle.  The drawer shown for this model number has a straight back.  Will the replacement drawer still fit?  Thank you, katyThis is for model number WRS322FDAW04', 'Where can i find the water filter on this model Whirlpool frig. The filter lite turns yellow and i have reset it to turn Green. It will need replacing soon. Thanks benThis is for model number ed5pvexws08', 'Is this drawer the correct one for a Maytag msd2559xem04?This is for model number Maytag MSD2559XEM04', 'The crisper drawer that is shown is not the size i need for my refrigeratorThis is for model number WRF989SDAM']\\nAnswers: ['Hi Anthony, great question. Based on the information provided by the manufacturer this part is 14.92 inches long, 7.6 inches high, and 16.5 inches wide. I hope this helps!', 'Hello Regina, this is the right drawer/bin WP2188656 that you’re looking for and it is a replacement part sourced directly from the manufacturer. Occasionally this will happen where it will not match your drawer word for word. However, it will fit in your fridge and will work just the same as the part it is replacing. I hope this clears things up for you!', 'Hello Shauna, thanks for the question! This can get a little confusing sometimes because the unit was built by Whirlpool but it is branded as a Kenmore, and yes this is a common occurrence. Rest assured that this is the correct crisper pan WP2188656 for your model, and it is an OEM replacement part. Please let us know if you have any further questions.', 'Hello Dao, Thank you for contacting us. I have researched the model you have provided and have found the part you are looking for is Part Number: PS11739122 for the bottom Pan, Part Number: PS11739119 for the middle Humidity Control Drawer and Part Number: PS869293 for the smaller Snack Drawer. Thank you for your inquiry, good luck with this repair!', 'Hello Sondra, thank you for your question. The left side crisper drawer that slants on the back is part number Crisper Drawer Part Number: PS11731260.  Please enter the part number into the site for current price and availability. Good luck with your repair!', 'Hi Barb,\\\\nThank you for your inquiry.  Yes, this drawer has the humidity control.  I hope this helps.  Thank you and have a great day!', 'Hi Katy,\\\\nThank you for your question.  The crisper drawer with humidity control that is listed under your model number does have a slanted back to it and it will fit in your refrigerator.  I hope this helps.  Thank you and have a great day!', 'Hello Ben, thank you for inquiring. For your model the replacement Water Filter is part PS11722128. It is located at the bottom left of the fridge behind the Kickplate Grille.', 'Hello Dave,  Thank you for contacting us. I have researched the model you have provided and have found the part you’re looking for is Part Number: PS11749661. Hope this helps!', 'Hello Mary, thank you for your question. The two crisper drawers that sit side by side in the fridge is PS11728127. Please enter the part number into the site for current price and availability. Good luck with your repair!']\\nCorresponding_model_numbers: ['Model number not found', 'Model number not found', 'Model number not found', 'ED5FHAXSQ00', 'ROPER 125204 RT18AKXJW', 'Model number not found', 'WRS322FDAW04', 'ed5pvexws08', 'Maytag MSD2559XEM04', 'WRF989SDAM']\", metadata={'source': '/Users/sarah_prakriti_peters/Documents/Instalily/data/fridge_data.csv', 'row': 7}),\n",
       " Document(page_content=\": 8\\nPart_Number: PS755842\\nManufacturer_Part_Number: WE1M504\\nManufacturer: GE\\nTitle: Fridge Drum Bearing Slide - White (Sold individually)\\nDescription: This authentic, white Drum Bearing Slide, also known as the bearing drum slide, glide, or pad, is a plastic, easy-to-install part for your dryer. It replaces the dryer's front drum slide to allow for easier movement.  You'll know if this part is an issue if your dryer is unable to tumble properly or is very noisy. Damage can come from regular use. The part attaches to the outermost side of the bearing. Check both slides for signs of wear, because they often wear at the same rate, and should be replaced at the same time; there are 2 of these particular slides per dryer. This part is sold individually, so you'll need to purchase multiple parts if replacing both at the same time.\\nPrice: $18.58\\nStock: In Stock\\nProduct_link: /PS755842-GE-WE1M504-Drum-Bearing-Slide-White-Sold-individually.htm?SourceCode=18\\nSymptoms Fixed: Noisy | Marks left on clothes\\nReplacements List: ['AP3206716', '963512', 'WE1M504', 'WE01M0333', 'WE1M333']\\nProduct Info: General Electric, Hotpoint, Kenmore.\\nAverage Product Rating: 4.9\\nAverage Repair Rating: 3.7 / 5.0, 193 reviews.\\nQueries: ['I’m changing all the bearing slides on my dryer how many do I need and why are they different colors?This is for model number Model number not found', 'Do I need 2 white slides and 2 Green slides for this dryer? If so do the slides come as a set or are they single? In other words when I order the white slide is it a set of 2 or just a single slide?This is for model number DHDSR48EF2WW', 'My dryer is making a terribly loud noise when I first turn it on. Is there a kit or something I should get for it? Ive been looking at your parts list and if I change the top drum bearing I think I will need the drum slide bearings. How many do I need and which ones should I order??? Are there any other parts I should order to stop the noise? Thanks for the help!This is for model number Model number not found', 'While drying it is making a squeaking noise that is coming and going like it maybe the belt squeakingThis is for model number DBXR463GD1WW', 'I bought and am currently replacing the rear bearings. Since the dryer is already pulled apart how can I tell if I should replace the front bearings or the support?This is for model number Model number not found', 'The dryer is not drying loads in normal time. It is also making a noise as if something is flopping around inside as the drum turns. There is nothing in the dryer and it still makes the noise. What should I check and in what order.Thanks, JimThis is for model number DBXR453ET5WW', 'A question about dryer . Once in awhile durnh a drying cycle the dryer will make a squeaking noise.And sometimes the dryer will take a long time to dry but i found the front seal was broken and not fully there.This is for model number Model number not found', 'How many glide slips would come with this? The dryer needs four. Does this purchase buy me four?This is for model number Model number not found', 'I ordered replacement slides and got 4 white slides. Can I use these or is there a specific reason for the Green slides?This is for model number DBVH512EF0WW', 'My dryer makes a thumping noise when it is running.This is for model number GFDN120ED1WW']\\nAnswers: ['Hi Brent, the bearing slides are different colors to tell the difference between them. If you are replacing the front bearing slides in your dryer you will need 2 lower slides WE1M504, which are white. You will also need two upper slides WE1M1067, which are green. Good luck with this repair.', 'Hi Glenn. You will need to order 2 of the white slides and 2 of the green slides. They are sold individually . Hope this helps!', 'Hi Nina, great question. Changing your front bearings would be your first step as worn ones can cause loud noises throughout the drying cycle. To change the upper bearings, you will need 2 of WE1M504 and 2 of WE1M1067. If you decide to also change the rear bearing which would be the second most common cause for the noise, the part would be WE25M40. Let us know if you have any further questions.', 'Hi Bobby,\\\\n\\\\nThank you for your inquiry. Your belt could be the issue. If it has worn down so much that maybe it is slipping against the pulley. However it is more likely that you will have to replace either your bearing slides or your pulley. I would check all of these parts to see which one of them are causing your problem. They are all physical parts, so when you look at them you should be able to determine which one is causing the problem for you. The belt and the slides would be parts that get worn down, the pulley is just something that you turn the wheel on and you will hear if it is making the squeaking noise. Good luck with your repair.', 'Hello Calista, thanks for getting in touch. You will know to replace the front bearings or the support if you see any visible damage. Wear is normal, but if the parts are damaged in any way they should be replaced. I hope this helps!', 'Hi Jim, Thank you for the question. You can check the belt to make sure it is not wore out and and preventing the drum to turn as it should.You can also check the Rear Drum Bearing for wear. Make sure the appliance is getting proper air flow. Clean the Lint Trap Duct Assembly and the Air Vents. You can use a Multi Meter to test the High Limit Thermostat and the Bias Thermostat as well for proper continuity. Hope this helps!', 'Hi Juan,\\\\nThank you for your question.  The squeaking noise you are hearing is likely a worn drum support roller that needs to be replaced.  It is always recommended to replace both of them at the same time.  If your dryer is taking a long time to dry and the front seal I would recommend replacing it as this is likely causing the issue.  I hope this helps.  Thank you and have a great day!', 'Hi Hansel, \\\\n\\\\nThank you for your question. These parts are sold individually. Be sure to check your model number and make sure that you need four of these ones and not two of these slides and two of a different kind. Good luck with your repair.', 'Hi Michael, Thank you for the question. The appliance needs 2 of the white and 2 of the green in order to operate properly. Hope this helps!', 'Hi Denny,\\\\nThank you for your inquiry.  There are some parts that you will need to check to see which one is causing the issue.  You will need to check the drive belt, the idler pulley wheel, the complete duct trap assembly, the idler arm, the bearing retainer and the bearing slides.  I hope this helps.  Thank you and have a great day!']\\nCorresponding_model_numbers: ['Model number not found', 'DHDSR48EF2WW', 'Model number not found', 'DBXR463GD1WW', 'Model number not found', 'DBXR453ET5WW', 'Model number not found', 'Model number not found', 'DBVH512EF0WW', 'GFDN120ED1WW']\", metadata={'source': '/Users/sarah_prakriti_peters/Documents/Instalily/data/fridge_data.csv', 'row': 8}),\n",
       " Document(page_content=': 9\\nPart_Number: PS6447706\\nManufacturer_Part_Number: WE1M1067\\nManufacturer: GE\\nTitle: Fridge Drum Bearing Slide - Green (Sold individually)\\nDescription: This original equipment manufacturer Drum Bearing Slide is a plastic, green, easy-to-install part for your dryer. It replaces the dryer\\'s front drum slide to allow for easier movement.  You\\'ll know if this part is an issue if your dryer is unable to tumble properly or is very noisy. Damage can come from regular use. As the slides start to break down it may cause your dryer to make noise or not dry clothes in the usual amount of time. You will need to purchase two for both sides of your dryer. They attach to the outer-most sides of the bearing. The manufacturer recommends replacing both slides at the same time. Take this opportunity to clean out the lint and dust in the dryer, to keep it running smoothly. This is a genuine replacement part that comes directly from the manufacturer. This item is sold individually. The part attaches to the outermost side of the bearing. Although this part is denoted as being \"Green\" in its title, many users and technicians have noted that its true colour is closer to a dark gray or black.\\nPrice: $14.29\\nStock: In Stock\\nProduct_link: /PS6447706-GE-WE1M1067-Drum-Bearing-Slide-Green-Sold-individually.htm?SourceCode=18\\nSymptoms Fixed: Noisy | Marks left on clothes\\nReplacements List: [\\'AP5668531\\', \\'2677745\\', \\'WE1M1067\\', \\'WE01M0316\\', \\'WE1M316\\', \\'WE1M481\\', \\'WE1M507\\']\\nProduct Info: General Electric, Hotpoint, Kenmore.\\nAverage Product Rating: 4.9\\nAverage Repair Rating: 3.6 / 5.0, 174 reviews.\\nQueries: [\\'Looking to replace the green and the white glides but forget which went where, can you give me rough positioning?This is for model number Model number not found\\', \\'how many of these do I need to order to replace the green drum slides and how many come in a packageThis is for model number Model number not found\\', \\'Drum bearing slides: What is the difference between the Green, and the white drum bearing slides?This is for model number DX4500EE1WW\\', \"Hello, my front bearing and bearing slides are completely worn out. There is only one bearing slide left on the right side and it\\'s white. There are white and Green slides available for this model. What do i order, all white? What\\'s the difference? Thanks, garyThis is for model number DBSR463GG0WW\", \\'There is a squeaking noise coming from my dryer. The top two slides look like they’ve seen better days. What do I need to order to fix my dyer?This is for model number Model number not found\\', \\'There are 4 drum bearing slides 2 white 2 Green can i replace them with either all Green or white??This is for model number DVLR223EE2WW\\', \"I need to replace the drum bearing slides on me GE dryer (2 Green and 2 white). The two installation videos show the Green ones go one lower or outside slots and the white ones go on the upper or inside slots. There are a couple of q&a\\'s that say just the opposite. Which is correct?This is for model number DWSR473EV1WW\", \"I\\'m looking for a drum glide for my dryer Maytag I need a part # can you help me?This is for model number Mde4658ayw\", \"I had a service technician come look at my dryer because it was really loud. She replaced the two upper slides with dark ones (I can\\'t say they\\'re exactly Green, more kind of black ish). She didn\\'t replace the white ones, and she said the larger plastic front drum bearing was no longer available anywhere, and I should plan on buying a new dryer soon. Funny thing, I\\'m looking at it on your website! Do I need to replace the slides that she installed, or can I take them off and put them onto a new bearing, along with a set of new white ones? Also, can I re use the felt pieces or can they be ordered? Thank you!This is for model number pwsr483ga1ww\", \\'How do I get the front bearing to clip on dryer?This is for model number DWSR483GB3CC\\']\\nAnswers: [\\'Hi Peter, you can position the white bearing slides at approximately 9 and 3 o’clock (across from each other). The green bearing slides can be placed at approximately 1 and 11 o’clock. I hope this helps you visualize it better!\\', \\'Hi Rachel, the drum slides come in one per package, so you will need to order two of each. For the green drum slides you can order part number WE1M1067, and for the white you can order part number WE1M504. Although only your green drum slides need replacing at the moment, we strongly advise replacing both the green and the white (upper and lower) together for an even wear. Please let us know if you have any further questions.\\', \\'Hi Kerry,\\\\nThank you for your inquiry.  The green slides go on the inner most slots on the front bearing while the white glides go on the outer most sides of the front bearing.  I hope this helps.  Thank you and have a great day!\\', \\'Hi Gary, Thank you for the question. You will need to order two white and two green slides. Each side of the front drum bearing will need a white and green slide. Hope this helps!\\', \\'Hello Andrea, to fix the squeaking noise you will need two upper bearing slides found here (green) WE1M1067, and two lower bearing slides found here (white) WE1M504. We recommend replacing all of them at the same time for an even wear. Best of luck with this repair!\\', \\'Hello Paul, thank you for your question. No, unfortunately you would have to have 2 white and 2 green. They are a bit different and the manufacturer recommends ordering 2 of each. I hope this helps!\\', \\'Hello Denis, thank you for your question. It is recommended to follow the instructions in the videos that we have provided for both the white and green slides. Good luck with your repair!\\', \\'Hi Janina, see the link below. Thank you for your question and good luck with your repair!\\', \\'Hello Karen, Thank you for the question. The \"Green\" Slide, Part #: PS6447706 is more of a black in color. You would be able to reuse then on the New Front Tub Bearing, Part #: PS960316. We also recommend replacing the White Slides, Part #: PS755842. We hope this helps!\\', \\'Hi Larry,\\\\nThank you for your question.  There is a video listed with the front bearing on our website that you can reference on how to install it.  The dryer in the video may not show exactly like the one you have, but it will give you a general idea on how to install the part.  Here is a link to the part where you will find the video, https://www.partselect.com/PS960316-GE-WE3M26-Front-Drum-Bearing.htm?SourceCode=4&SearchTerm=DWSR483GB3CC&ModelNum=DWSR483GB3CC.  I hope this helps.  Thank you and have a great day!\\']\\nCorresponding_model_numbers: [\\'Model number not found\\', \\'Model number not found\\', \\'DX4500EE1WW\\', \\'DBSR463GG0WW\\', \\'Model number not found\\', \\'DVLR223EE2WW\\', \\'DWSR473EV1WW\\', \\'Mde4658ayw\\', \\'pwsr483ga1ww\\', \\'DWSR483GB3CC\\']', metadata={'source': '/Users/sarah_prakriti_peters/Documents/Instalily/data/fridge_data.csv', 'row': 9})]"
      ]
     },
     "execution_count": 23,
     "metadata": {},
     "output_type": "execute_result"
    }
   ],
   "source": [
    "data"
   ]
  },
  {
   "cell_type": "code",
   "execution_count": 24,
   "metadata": {},
   "outputs": [],
   "source": [
    "text_splitter = CharacterTextSplitter(chunk_size=500, chunk_overlap=50)\n",
    "chunks = text_splitter.split_documents(data)"
   ]
  },
  {
   "cell_type": "code",
   "execution_count": 25,
   "metadata": {},
   "outputs": [
    {
     "name": "stdout",
     "output_type": "stream",
     "text": [
      "embedded weaviate is already listening on port 8079\n"
     ]
    },
    {
     "name": "stderr",
     "output_type": "stream",
     "text": [
      "{\"level\":\"info\",\"msg\":\"Created shard langchain_2a6536a4d5f0472190333a1d9d81e8d0_LxmWeNBv7VbH in 1.259542ms\",\"time\":\"2024-03-01T15:20:07-05:00\"}\n",
      "{\"action\":\"hnsw_vector_cache_prefill\",\"count\":1000,\"index_id\":\"main\",\"level\":\"info\",\"limit\":1000000000000,\"msg\":\"prefilled vector cache\",\"time\":\"2024-03-01T15:20:07-05:00\",\"took\":40875}\n"
     ]
    }
   ],
   "source": [
    "client = weaviate.Client(\n",
    "  embedded_options = EmbeddedOptions()\n",
    ")\n",
    "\n",
    "vectorstore = Weaviate.from_documents(\n",
    "    client = client,    \n",
    "    documents = chunks,\n",
    "    embedding = OpenAIEmbeddings(openai_api_key=\"your_api_key\"),\n",
    "    by_text = False\n",
    ")"
   ]
  },
  {
   "cell_type": "code",
   "execution_count": 26,
   "metadata": {},
   "outputs": [
    {
     "data": {
      "text/plain": [
       "VectorStoreRetriever(tags=['Weaviate', 'OpenAIEmbeddings'], vectorstore=<langchain_community.vectorstores.weaviate.Weaviate object at 0x154c01820>)"
      ]
     },
     "execution_count": 26,
     "metadata": {},
     "output_type": "execute_result"
    }
   ],
   "source": [
    "retriever = vectorstore.as_retriever()\n",
    "retriever"
   ]
  },
  {
   "cell_type": "markdown",
   "metadata": {},
   "source": [
    "# Setting up a chat prompt \n",
    "\n",
    "I want the agent to be able to answer all basic questions about refrigerators"
   ]
  },
  {
   "cell_type": "code",
   "execution_count": 27,
   "metadata": {},
   "outputs": [
    {
     "name": "stdout",
     "output_type": "stream",
     "text": [
      "input_variables=['context', 'question'] messages=[HumanMessagePromptTemplate(prompt=PromptTemplate(input_variables=['context', 'question'], template=\"You are an assistant for question-answering tasks. \\nUse the following pieces of retrieved context to answer the question. \\nIf you don't know the answer, just say that you don't know. \\nUse three sentences maximum and keep the answer concise.\\nQuestion: {question} \\nContext: {context} \\nAnswer:\\n\"))]\n"
     ]
    }
   ],
   "source": [
    "template = \"\"\"You are an assistant for question-answering tasks. \n",
    "Use the following pieces of retrieved context to answer the question. \n",
    "If you don't know the answer, just say that you don't know. \n",
    "Use three sentences maximum and keep the answer concise.\n",
    "Question: {question} \n",
    "Context: {context} \n",
    "Answer:\n",
    "\"\"\"\n",
    "prompt = ChatPromptTemplate.from_template(template)\n",
    "\n",
    "print(prompt)"
   ]
  },
  {
   "cell_type": "code",
   "execution_count": 28,
   "metadata": {},
   "outputs": [
    {
     "data": {
      "text/plain": [
       "'To fix the ice maker on your Whirlpool fridge, you may need to replace the water filter. The water filter purifies water going to the ice maker and can fix issues like reduced water flow or no ice production. Replacing the water filter every 6 months is recommended for optimal performance.'"
      ]
     },
     "execution_count": 28,
     "metadata": {},
     "output_type": "execute_result"
    }
   ],
   "source": [
    "llm = ChatOpenAI(model_name=\"gpt-3.5-turbo\", temperature=0, openai_api_key=\"your_api_key\")\n",
    "\n",
    "rag_chain = (\n",
    "    {\"context\": retriever,  \"question\": RunnablePassthrough()} \n",
    "    | prompt \n",
    "    | llm\n",
    "    | StrOutputParser() \n",
    ")\n",
    "\n",
    "query = \"The ice maker on my Whirlpool fridge is not working. How can I fix it?\"\n",
    "rag_chain.invoke(query)"
   ]
  },
  {
   "cell_type": "code",
   "execution_count": 29,
   "metadata": {},
   "outputs": [
    {
     "data": {
      "text/plain": [
       "'To install part number PS11752778, grab the old bin with both hands and lift it away from the door, then line up the new bin where the old one was and drop it into place. No tools are needed for installation. Good luck with your repair!'"
      ]
     },
     "execution_count": 29,
     "metadata": {},
     "output_type": "execute_result"
    }
   ],
   "source": [
    "query = \"How can I install part number PS11752778?\"\n",
    "rag_chain.invoke(query) "
   ]
  },
  {
   "cell_type": "code",
   "execution_count": 30,
   "metadata": {},
   "outputs": [
    {
     "data": {
      "text/plain": [
       "'Part number PS11752778 is priced at $47.83 and is manufactured by Whirlpool.'"
      ]
     },
     "execution_count": 30,
     "metadata": {},
     "output_type": "execute_result"
    }
   ],
   "source": [
    "query = \"How expensive is part number PS11752778? Also who is the manufacturer?\"\n",
    "rag_chain.invoke(query)"
   ]
  },
  {
   "cell_type": "code",
   "execution_count": 31,
   "metadata": {},
   "outputs": [
    {
     "data": {
      "text/plain": [
       "'The part number PS11752778 is priced at $47.83, manufactured by Whirlpool, and currently in stock. It can replace parts such as AP6019471, 2171046, 2171047, and more.'"
      ]
     },
     "execution_count": 31,
     "metadata": {},
     "output_type": "execute_result"
    }
   ],
   "source": [
    "query = \"How expensive is part number PS11752778? Also who is the manufacturer? And is it currently in stock? Also any idea what parts it can replace?\"\n",
    "rag_chain.invoke(query)"
   ]
  },
  {
   "cell_type": "code",
   "execution_count": 32,
   "metadata": {},
   "outputs": [
    {
     "data": {
      "text/plain": [
       "'Most customers rate 242126602 with an average product rating of 4.8 and an average repair rating of 4.4 out of 5.0 based on 20 reviews.'"
      ]
     },
     "execution_count": 32,
     "metadata": {},
     "output_type": "execute_result"
    }
   ],
   "source": [
    "query = \"How do most customers rate 242126602?\"\n",
    "rag_chain.invoke(query)"
   ]
  },
  {
   "cell_type": "code",
   "execution_count": 33,
   "metadata": {},
   "outputs": [
    {
     "data": {
      "text/plain": [
       "'The part that should be replaced in your refrigerator is the water filter. The price for the water filter is $90.73. It is recommended to replace the water filter every 6 months for optimal performance.'"
      ]
     },
     "execution_count": 33,
     "metadata": {},
     "output_type": "execute_result"
    }
   ],
   "source": [
    "query = \"My refrigerator makes noise. Which part should be replaced? Also, how expensive is that part?\"\n",
    "rag_chain.invoke(query)"
   ]
  },
  {
   "cell_type": "code",
   "execution_count": 34,
   "metadata": {},
   "outputs": [
    {
     "data": {
      "text/plain": [
       "'The refrigerator crisper drawer with humidity control is necessary to regulate humidity levels and keep vegetables and fruits fresh. It can fix problems like difficulty sliding the drawer in and out due to damage or breakage. Replacing the drawer can help maintain the freshness of produce stored in the refrigerator.'"
      ]
     },
     "execution_count": 34,
     "metadata": {},
     "output_type": "execute_result"
    },
    {
     "name": "stderr",
     "output_type": "stream",
     "text": [
      "{\"level\":\"info\",\"msg\":\"Created shard langchain_d3d97aed63af43a181322181964a5b79_xs6ZT2RBJYsE in 1.023917ms\",\"time\":\"2024-03-01T15:33:42-05:00\"}\n",
      "{\"action\":\"hnsw_vector_cache_prefill\",\"count\":1000,\"index_id\":\"main\",\"level\":\"info\",\"limit\":1000000000000,\"msg\":\"prefilled vector cache\",\"time\":\"2024-03-01T15:33:42-05:00\",\"took\":40875}\n",
      "{\"level\":\"info\",\"msg\":\"Created shard langchain_f11607d01054423682f965a1e67e6a9a_Qj6xnciTnkLD in 1.105833ms\",\"time\":\"2024-03-01T15:33:51-05:00\"}\n",
      "{\"action\":\"hnsw_vector_cache_prefill\",\"count\":1000,\"index_id\":\"main\",\"level\":\"info\",\"limit\":1000000000000,\"msg\":\"prefilled vector cache\",\"time\":\"2024-03-01T15:33:51-05:00\",\"took\":40750}\n",
      "{\"level\":\"info\",\"msg\":\"Created shard langchain_f5685cab3580406cbe0e31d55beb0190_t8UJp3XNw2VL in 2.911583ms\",\"time\":\"2024-03-02T12:30:33-05:00\"}\n",
      "{\"action\":\"hnsw_vector_cache_prefill\",\"count\":1000,\"index_id\":\"main\",\"level\":\"info\",\"limit\":1000000000000,\"msg\":\"prefilled vector cache\",\"time\":\"2024-03-02T12:30:33-05:00\",\"took\":193500}\n",
      "{\"level\":\"info\",\"msg\":\"Created shard langchain_ff7247d50be84604a5cb50b7255bb31b_qAT0RgyHVBnM in 1.90825ms\",\"time\":\"2024-03-02T12:55:34-05:00\"}\n",
      "{\"action\":\"hnsw_vector_cache_prefill\",\"count\":1000,\"index_id\":\"main\",\"level\":\"info\",\"limit\":1000000000000,\"msg\":\"prefilled vector cache\",\"time\":\"2024-03-02T12:55:34-05:00\",\"took\":42208}\n",
      "{\"level\":\"info\",\"msg\":\"Created shard langchain_ca088969c62649998e929bd9223e5daa_a83QjVhVNH0l in 1.259083ms\",\"time\":\"2024-03-02T12:57:01-05:00\"}\n",
      "{\"action\":\"hnsw_vector_cache_prefill\",\"count\":1000,\"index_id\":\"main\",\"level\":\"info\",\"limit\":1000000000000,\"msg\":\"prefilled vector cache\",\"time\":\"2024-03-02T12:57:01-05:00\",\"took\":43375}\n",
      "{\"level\":\"info\",\"msg\":\"Created shard langchain_dcc3b524620f4e5e8e1bf23d173664f2_XZDWmlQy2Oar in 1.297167ms\",\"time\":\"2024-03-02T13:34:23-05:00\"}\n",
      "{\"action\":\"hnsw_vector_cache_prefill\",\"count\":1000,\"index_id\":\"main\",\"level\":\"info\",\"limit\":1000000000000,\"msg\":\"prefilled vector cache\",\"time\":\"2024-03-02T13:34:23-05:00\",\"took\":43875}\n",
      "{\"level\":\"info\",\"msg\":\"Created shard langchain_c4693fd6114548778059510805892b77_HNmV66Hfsw6Y in 1.078208ms\",\"time\":\"2024-03-02T14:00:18-05:00\"}\n",
      "{\"action\":\"hnsw_vector_cache_prefill\",\"count\":1000,\"index_id\":\"main\",\"level\":\"info\",\"limit\":1000000000000,\"msg\":\"prefilled vector cache\",\"time\":\"2024-03-02T14:00:18-05:00\",\"took\":41542}\n",
      "{\"level\":\"info\",\"msg\":\"Created shard langchain_15f6b5e04f7c4eb6a8e624bba620b93a_9imt5FVZ9i9h in 1.430458ms\",\"time\":\"2024-03-02T14:12:00-05:00\"}\n",
      "{\"action\":\"hnsw_vector_cache_prefill\",\"count\":1000,\"index_id\":\"main\",\"level\":\"info\",\"limit\":1000000000000,\"msg\":\"prefilled vector cache\",\"time\":\"2024-03-02T14:12:00-05:00\",\"took\":40834}\n",
      "{\"level\":\"info\",\"msg\":\"Created shard langchain_e48bb4d35bf449f6ad05bcb81d4f9625_EcFSa2m0soxF in 1.409708ms\",\"time\":\"2024-03-02T14:13:02-05:00\"}\n",
      "{\"action\":\"hnsw_vector_cache_prefill\",\"count\":1000,\"index_id\":\"main\",\"level\":\"info\",\"limit\":1000000000000,\"msg\":\"prefilled vector cache\",\"time\":\"2024-03-02T14:13:02-05:00\",\"took\":43250}\n",
      "{\"level\":\"info\",\"msg\":\"Created shard langchain_f3b08bafb5fe427f8a5038242cbf7020_GTb2232g3ckd in 1.073167ms\",\"time\":\"2024-03-02T14:15:10-05:00\"}\n",
      "{\"action\":\"hnsw_vector_cache_prefill\",\"count\":1000,\"index_id\":\"main\",\"level\":\"info\",\"limit\":1000000000000,\"msg\":\"prefilled vector cache\",\"time\":\"2024-03-02T14:15:10-05:00\",\"took\":41958}\n",
      "{\"level\":\"info\",\"msg\":\"Created shard langchain_190867dc73c840818b3d07a09d33d689_WLau6kzAktAH in 1.147375ms\",\"time\":\"2024-03-02T14:18:46-05:00\"}\n",
      "{\"action\":\"hnsw_vector_cache_prefill\",\"count\":1000,\"index_id\":\"main\",\"level\":\"info\",\"limit\":1000000000000,\"msg\":\"prefilled vector cache\",\"time\":\"2024-03-02T14:18:46-05:00\",\"took\":39667}\n",
      "{\"level\":\"info\",\"msg\":\"Created shard langchain_ad9e091303ee42febed625088ec8c2aa_W5bF9TBoKUM6 in 1.216667ms\",\"time\":\"2024-03-02T17:56:05-05:00\"}\n",
      "{\"action\":\"hnsw_vector_cache_prefill\",\"count\":1000,\"index_id\":\"main\",\"level\":\"info\",\"limit\":1000000000000,\"msg\":\"prefilled vector cache\",\"time\":\"2024-03-02T17:56:05-05:00\",\"took\":40084}\n",
      "{\"level\":\"info\",\"msg\":\"Created shard langchain_75389e7cfc6e4569b77d2fe3c671049e_rzNQZHYTeI7k in 1.707334ms\",\"time\":\"2024-03-02T18:38:56-05:00\"}\n",
      "{\"action\":\"hnsw_vector_cache_prefill\",\"count\":1000,\"index_id\":\"main\",\"level\":\"info\",\"limit\":1000000000000,\"msg\":\"prefilled vector cache\",\"time\":\"2024-03-02T18:38:56-05:00\",\"took\":44542}\n",
      "{\"level\":\"info\",\"msg\":\"Created shard langchain_ba17d815fe4d48d6abd30be3272c80f3_TfjiTvzgf9wO in 1.0525ms\",\"time\":\"2024-03-02T18:39:14-05:00\"}\n",
      "{\"action\":\"hnsw_vector_cache_prefill\",\"count\":1000,\"index_id\":\"main\",\"level\":\"info\",\"limit\":1000000000000,\"msg\":\"prefilled vector cache\",\"time\":\"2024-03-02T18:39:14-05:00\",\"took\":41084}\n",
      "{\"level\":\"info\",\"msg\":\"Created shard langchain_ff7ccaeb2cb3476880f2d340cf2218e5_YDPeJNJN1XTn in 1.095792ms\",\"time\":\"2024-03-02T19:00:32-05:00\"}\n",
      "{\"action\":\"hnsw_vector_cache_prefill\",\"count\":1000,\"index_id\":\"main\",\"level\":\"info\",\"limit\":1000000000000,\"msg\":\"prefilled vector cache\",\"time\":\"2024-03-02T19:00:32-05:00\",\"took\":39500}\n",
      "{\"level\":\"info\",\"msg\":\"Created shard langchain_7f8ba21888f24680a3ed6092c64796d5_SZTG9oBydE2u in 1.188833ms\",\"time\":\"2024-03-02T19:00:47-05:00\"}\n",
      "{\"action\":\"hnsw_vector_cache_prefill\",\"count\":1000,\"index_id\":\"main\",\"level\":\"info\",\"limit\":1000000000000,\"msg\":\"prefilled vector cache\",\"time\":\"2024-03-02T19:00:47-05:00\",\"took\":42084}\n",
      "{\"level\":\"info\",\"msg\":\"Created shard langchain_b584a4eab2de47c8bd1520e03340787c_5taQZL8rVcPK in 1.740042ms\",\"time\":\"2024-03-02T19:07:40-05:00\"}\n",
      "{\"action\":\"hnsw_vector_cache_prefill\",\"count\":1000,\"index_id\":\"main\",\"level\":\"info\",\"limit\":1000000000000,\"msg\":\"prefilled vector cache\",\"time\":\"2024-03-02T19:07:40-05:00\",\"took\":42917}\n",
      "{\"level\":\"info\",\"msg\":\"Created shard langchain_e5ac6d1f234b4e96abf33f10ab1ad3d6_uuGE90NeERy3 in 1.165667ms\",\"time\":\"2024-03-02T20:04:27-05:00\"}\n",
      "{\"action\":\"hnsw_vector_cache_prefill\",\"count\":1000,\"index_id\":\"main\",\"level\":\"info\",\"limit\":1000000000000,\"msg\":\"prefilled vector cache\",\"time\":\"2024-03-02T20:04:27-05:00\",\"took\":42042}\n",
      "{\"level\":\"info\",\"msg\":\"Created shard langchain_af884114a1de41e6b919857d58930a10_7UtsEwyPRL9w in 1.151125ms\",\"time\":\"2024-03-02T20:09:20-05:00\"}\n",
      "{\"action\":\"hnsw_vector_cache_prefill\",\"count\":1000,\"index_id\":\"main\",\"level\":\"info\",\"limit\":1000000000000,\"msg\":\"prefilled vector cache\",\"time\":\"2024-03-02T20:09:20-05:00\",\"took\":40500}\n",
      "{\"level\":\"info\",\"msg\":\"Created shard langchain_58f441fe3df54cf2b3b088126d56799e_3YohWLpxUiHP in 1.085917ms\",\"time\":\"2024-03-02T20:09:26-05:00\"}\n",
      "{\"action\":\"hnsw_vector_cache_prefill\",\"count\":1000,\"index_id\":\"main\",\"level\":\"info\",\"limit\":1000000000000,\"msg\":\"prefilled vector cache\",\"time\":\"2024-03-02T20:09:26-05:00\",\"took\":43208}\n",
      "{\"level\":\"info\",\"msg\":\"Created shard langchain_2adbc39c8fe245f1954a2e5734b1a338_qj8Ow8m9mwxs in 1.329375ms\",\"time\":\"2024-03-02T20:11:47-05:00\"}\n",
      "{\"action\":\"hnsw_vector_cache_prefill\",\"count\":1000,\"index_id\":\"main\",\"level\":\"info\",\"limit\":1000000000000,\"msg\":\"prefilled vector cache\",\"time\":\"2024-03-02T20:11:47-05:00\",\"took\":42875}\n",
      "{\"level\":\"info\",\"msg\":\"Created shard langchain_fca8ee12b10f4be89d7d5e836c0ac00d_vcAe6qD74ihn in 1.269625ms\",\"time\":\"2024-03-02T20:27:43-05:00\"}\n",
      "{\"action\":\"hnsw_vector_cache_prefill\",\"count\":1000,\"index_id\":\"main\",\"level\":\"info\",\"limit\":1000000000000,\"msg\":\"prefilled vector cache\",\"time\":\"2024-03-02T20:27:43-05:00\",\"took\":47500}\n",
      "{\"level\":\"info\",\"msg\":\"Created shard langchain_1c4cda9ae1474de8a1b54fb944644001_eJ8nnquIeSlI in 1.772542ms\",\"time\":\"2024-03-02T20:28:01-05:00\"}\n",
      "{\"action\":\"hnsw_vector_cache_prefill\",\"count\":1000,\"index_id\":\"main\",\"level\":\"info\",\"limit\":1000000000000,\"msg\":\"prefilled vector cache\",\"time\":\"2024-03-02T20:28:01-05:00\",\"took\":48417}\n",
      "{\"level\":\"info\",\"msg\":\"Created shard langchain_52e9959593fe4fd1a9f3cbad3f873e9a_99Pi1uZzygij in 2.801875ms\",\"time\":\"2024-03-02T20:28:06-05:00\"}\n",
      "{\"action\":\"hnsw_vector_cache_prefill\",\"count\":1000,\"index_id\":\"main\",\"level\":\"info\",\"limit\":1000000000000,\"msg\":\"prefilled vector cache\",\"time\":\"2024-03-02T20:28:06-05:00\",\"took\":76042}\n"
     ]
    }
   ],
   "source": [
    "query = \"Is the refrigerator crisper drawer with humidity control necessary? What kinds of problems will it fix?\"\n",
    "rag_chain.invoke(query)"
   ]
  },
  {
   "cell_type": "code",
   "execution_count": null,
   "metadata": {},
   "outputs": [],
   "source": []
  }
 ],
 "metadata": {
  "kernelspec": {
   "display_name": "interviews",
   "language": "python",
   "name": "python3"
  },
  "language_info": {
   "codemirror_mode": {
    "name": "ipython",
    "version": 3
   },
   "file_extension": ".py",
   "mimetype": "text/x-python",
   "name": "python",
   "nbconvert_exporter": "python",
   "pygments_lexer": "ipython3",
   "version": "3.12.1"
  }
 },
 "nbformat": 4,
 "nbformat_minor": 2
}
